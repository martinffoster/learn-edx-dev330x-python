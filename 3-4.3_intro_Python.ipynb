{
 "cells": [
  {
   "cell_type": "markdown",
   "metadata": {},
   "source": [
    "# Section 4.3: Documenting Functions (Docstring)\n",
    "* Docstrings\n",
    "* \"\"\" \"\"\"\n",
    "* \\_\\_doc\\_\\_ , help()\n",
    "\n",
    "### Students will be able to:\n",
    "* Write one-line docstrings\n",
    "* Write multi-line docstrings\n",
    "* Access docstrings"
   ]
  },
  {
   "cell_type": "markdown",
   "metadata": {},
   "source": [
    "---\n",
    "<font size=\"6\" color=\"#00A0B2\"  face=\"verdana\"> <B>Concepts</B></font>  \n",
    "\n",
    "## Documenting Code by Using Docstrings\n",
    "\n",
    "[![view video](https://iajupyterprodblobs.blob.core.windows.net/imagecontainer/common/play_video.png)](https://www.youtube.com/watch?v=xOIr4dt6gsk)\n",
    "\n",
    "Documenting code is an essential part of software development. It is the way developers record information for later reference or to communicate ideas to other developers who will be using the code. Documenting code in Python is easily done using documentation strings (_docstrings_). Docstrings are string literals that are used to document modules, classes, functions, and methods. Docstrings start and end with triple quotes `\"\"\" some string \"\"\"`. In this section, the focus is on using docstrings to document functions.\n",
    "\n",
    "In Python, documentation should communicate what your code does, not how it works. There are different documentation conventions for every development community or company. The following is adapted from Python Enhancement Proposal 257 (PEP 257), which can be found at https://www.python.org/dev/peps/pep-0257/.\n",
    "\n",
    "### One-line docstrings\n",
    "\n",
    "Used for simple functions with clear functionality:\n",
    "\n",
    "```python\n",
    "def double(x):\n",
    "    \"\"\"Return doubled x.\"\"\"\n",
    "    return x * 2\n",
    "```\n",
    "\n",
    "General notes:\n",
    "* Use triple quotes even though it's only a single line docstring.\n",
    "* Describe the function as a command, not as a description (i.e. return x, compute b...).\n",
    "* End the string with a period.\n",
    "\n",
    "### Multi-line docstrings\n",
    "\n",
    "Used to describe functions more elaborately:\n",
    "\n",
    "```python\n",
    "def vowel_count(word):\n",
    "    \"\"\"\n",
    "    Count the number of vowels in a word.\n",
    "    \n",
    "    args:\n",
    "        word: string under test\n",
    "        \n",
    "    returns:\n",
    "        count: number of counted vowels\n",
    "    \"\"\"\n",
    "    \n",
    "    count = 0\n",
    "    for c in word:\n",
    "        if c in \"AEIOUYaeiouy\":\n",
    "            count = count + 1\n",
    "    return count\n",
    "```\n",
    "\n",
    "General notes:\n",
    "* Start with triple quotes.\n",
    "* Write a summary line as in the one-line docstring (as a command, ends with a period).\n",
    "* Follow the summary with a blank line.\n",
    "* You can write more description after the blank line, but this is optional.\n",
    "* List the function arguments, return values, and exceptions raised (if any).\n",
    "* End the docstring with triple quotes and a blank line.\n",
    "\n",
    "### Accessing docstrings\n",
    "Each function contains an attribute `__doc__` that contains its docstring. A function's docstring can be accessed through this attribute or by using the `help()` function in a Python interpreter."
   ]
  },
  {
   "cell_type": "markdown",
   "metadata": {},
   "source": [
    "---\n",
    "<font size=\"6\" color=\"#00A0B2\"  face=\"verdana\"> <B>Examples</B></font>\n",
    "\n",
    "In this example, you will explore how to write and access one-line and multi-line docstrings."
   ]
  },
  {
   "cell_type": "markdown",
   "metadata": {},
   "source": [
    "## Converting Celsius to Fahrenheit"
   ]
  },
  {
   "cell_type": "code",
   "execution_count": null,
   "metadata": {
    "collapsed": true
   },
   "outputs": [],
   "source": [
    "def C2F(degrees_celsius):\n",
    "    \"\"\" Convert Celsius to Fahrenheit\"\"\"\n",
    "    return degrees_celsius * (9/5) + 32\n",
    "\n",
    "print(\"Accessing docstrings using __doc__:\\n\")\n",
    "print(C2F.__doc__)"
   ]
  },
  {
   "cell_type": "code",
   "execution_count": null,
   "metadata": {
    "collapsed": true
   },
   "outputs": [],
   "source": [
    "def C2F(degrees_celsius):\n",
    "    \"\"\" Convert Celsius to Fahrenheit\"\"\"\n",
    "    return degrees_celsius * (9/5) + 32\n",
    "\n",
    "print(\"Accessing docstrings using help:\\n\")\n",
    "help(C2F)"
   ]
  },
  {
   "cell_type": "markdown",
   "metadata": {},
   "source": [
    "## Converting Kilograms (kg) to Pounds (lb)"
   ]
  },
  {
   "cell_type": "code",
   "execution_count": null,
   "metadata": {
    "collapsed": true
   },
   "outputs": [],
   "source": [
    "def kg2lb(kilograms):\n",
    "    \"\"\"\n",
    "    Convert kilograms to pounds\n",
    "    \n",
    "    args:\n",
    "        kilograms: weight in kg \n",
    "    \n",
    "    returns:\n",
    "        pounds: weight in lb\n",
    "    \"\"\"\n",
    "    \n",
    "    pounds = kilograms * 2.20462262185\n",
    "    return pounds\n",
    "\n",
    "print(\"Accessing docstrings using __doc__:\\n\")\n",
    "print(kg2lb.__doc__)"
   ]
  },
  {
   "cell_type": "code",
   "execution_count": null,
   "metadata": {
    "collapsed": true
   },
   "outputs": [],
   "source": [
    "def kg2lb(kilograms):\n",
    "    \"\"\"\n",
    "    Convert kilograms to pounds\n",
    "    \n",
    "    args:\n",
    "        kilograms: weight in kg \n",
    "    \n",
    "    returns:\n",
    "        pounds: weight in lb\n",
    "    \"\"\"\n",
    "    \n",
    "    pounds = kilograms * 2.20462262185\n",
    "    return pounds\n",
    "\n",
    "print(\"Accessing docstrings using help:\\n\")\n",
    "help(kg2lb)"
   ]
  },
  {
   "cell_type": "markdown",
   "metadata": {},
   "source": [
    "---\n",
    "<font size=\"6\" color=\"#B24C00\"  face=\"verdana\"> <B>Task 1</B></font>\n",
    "\n",
    "## Documenting Code by Using Docstrings"
   ]
  },
  {
   "cell_type": "code",
   "execution_count": null,
   "metadata": {
    "collapsed": true
   },
   "outputs": [],
   "source": [
    "# [ ] The following function generates a single die roll\n",
    "# Document the function using a one-line docstring\n",
    "\n",
    "from random import randint\n",
    "\n",
    "def die_roller ():\n",
    "    return (randint(1, 6))\n",
    "\n"
   ]
  },
  {
   "cell_type": "code",
   "execution_count": null,
   "metadata": {
    "collapsed": true
   },
   "outputs": [],
   "source": [
    "# [ ] The following function computes the area of a circle\n",
    "# Document the function using a one-line docstring\n",
    "\n",
    "from math import pi\n",
    "\n",
    "def circle_area(r):\n",
    "    return pi * (r ** 2)\n",
    "\n"
   ]
  },
  {
   "cell_type": "code",
   "execution_count": null,
   "metadata": {
    "collapsed": true
   },
   "outputs": [],
   "source": [
    "# [ ] The following program counts the number of times the value in `a` appears in `lst`\n",
    "# Document the function using a multi-line docstring\n",
    "\n",
    "def count_occurrences(a, lst):    \n",
    "    count = 0\n",
    "    for element in lst:\n",
    "        if a == element:\n",
    "            count = count + 1\n",
    "    \n",
    "    return count\n",
    "\n"
   ]
  },
  {
   "cell_type": "code",
   "execution_count": null,
   "metadata": {
    "collapsed": true
   },
   "outputs": [],
   "source": [
    "# [ ] The following program prints out the date `d` number of days after today\n",
    "# Document the function using a multi-line docstring\n",
    "\n",
    "from datetime import date, timedelta\n",
    "def future_date(d):\n",
    "    today = date.today()\n",
    "    td = timedelta(days = d)\n",
    "    future = today + td\n",
    "    print(\"Date {:d} from today is: {:s}\".format(d, future.strftime(\"%a %h %d, %Y\")))\n",
    "    \n",
    "# Date 10 days from today\n",
    "future_date(10)\n",
    "\n"
   ]
  }
 ],
 "metadata": {
  "kernelspec": {
   "display_name": "Python 3",
   "language": "python",
   "name": "python3"
  },
  "language_info": {
   "codemirror_mode": {
    "name": "ipython",
    "version": 3
   },
   "file_extension": ".py",
   "mimetype": "text/x-python",
   "name": "python",
   "nbconvert_exporter": "python",
   "pygments_lexer": "ipython3",
   "version": "3.6.3"
  }
 },
 "nbformat": 4,
 "nbformat_minor": 2
}
