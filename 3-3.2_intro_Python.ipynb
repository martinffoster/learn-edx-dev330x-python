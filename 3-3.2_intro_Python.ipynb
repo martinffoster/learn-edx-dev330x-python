{
 "cells": [
  {
   "cell_type": "markdown",
   "metadata": {},
   "source": [
    "# Section 3.2: Files\n",
    "* os.remove, os.unlink\n",
    "* os.path.exists, os.path.isdir, os.path.isfile\n",
    "* `with`\n",
    "\n",
    "### Students will be able to:\n",
    "* Delete files\n",
    "* Check that a file exists\n",
    "* Check if a path is a file or directory\n",
    "* Handle file exceptions\n",
    "* Use `with` statement close an open file after catching an exception"
   ]
  },
  {
   "cell_type": "markdown",
   "metadata": {},
   "source": [
    "---\n",
    "<font size=\"6\" color=\"#00A0B2\"  face=\"verdana\"> <B>Concepts</B></font>  \n",
    "\n",
    "## Deleting Files\n",
    "\n",
    "[![view video](https://iajupyterprodblobs.blob.core.windows.net/imagecontainer/common/play_video.png)](https://www.youtube.com/watch?v=qSYMdOq_96g)\n",
    "\n",
    "In module 1 you explored the `os` module and used some of its methods to interact with the file system. You changed the working directory, listed the content of a path, created new directories, removed directories, and renamed files and directories. In addition to these utilities, Python's `os` module allows you to remove specific files using the `os.remove(path)` or `os.unlink(path)` functions. Both functions are semantically identical; however, their functionality slightly differs depending on the platform running your program. For now, we will consider them equivalent and use `os.remove(path)` to delete a file."
   ]
  },
  {
   "cell_type": "markdown",
   "metadata": {},
   "source": [
    "---\n",
    "<font size=\"6\" color=\"#00A0B2\"  face=\"verdana\"> <B>Examples</B></font>\n",
    "\n",
    "### Removing a file"
   ]
  },
  {
   "cell_type": "code",
   "execution_count": 3,
   "metadata": {},
   "outputs": [
    {
     "name": "stdout",
     "output_type": "stream",
     "text": [
      "Content of \"parent_dir\" after creating the file:\n",
      "['tmp_file_to_be_deleted.txt']\n",
      "\n",
      "Content of \"parent_dir\" after removing the file\n",
      "[]\n"
     ]
    }
   ],
   "source": [
    "import os\n",
    "\n",
    "# Create a file to be deleted\n",
    "file_path = \"parent_dir/tmp_file_to_be_deleted.txt\"\n",
    "f = open(file_path, 'w')\n",
    "f.close()\n",
    "\n",
    "# list the content of parent_dir\n",
    "print('Content of \"parent_dir\" after creating the file:')\n",
    "print(os.listdir(\"parent_dir\"))\n",
    "print()\n",
    "\n",
    "# delete the file\n",
    "os.remove(file_path)\n",
    "\n",
    "# list the content of parent_dir\n",
    "print('Content of \"parent_dir\" after removing the file')\n",
    "print(os.listdir(\"parent_dir\"))\n"
   ]
  },
  {
   "cell_type": "markdown",
   "metadata": {},
   "source": [
    "---\n",
    "<font size=\"6\" color=\"#B24C00\"  face=\"verdana\"> <B>Task 1</B></font>"
   ]
  },
  {
   "cell_type": "markdown",
   "metadata": {},
   "source": [
    "## Setting Up the Environment (no coding required)\n",
    "This code segment creates a directory named `files_exercises` that contains five subdirectories named `dir_1`, `dir_2`, ...`dir_5` and 100 text files named sequentially from 0 to 99. The first line of each text file is a random number from 1000 to 9999."
   ]
  },
  {
   "cell_type": "code",
   "execution_count": 4,
   "metadata": {},
   "outputs": [
    {
     "name": "stdout",
     "output_type": "stream",
     "text": [
      "Changing working dir to parent_dir\n",
      "Current working directory: C:\\work\\code\\martinffoster\\learn-edx-dev330x-python\\parent_dir\n",
      "Making \"files_exercises\"\n",
      "Changing working directory to \"files_exercises\"\n",
      "Current working directory: C:\\work\\code\\martinffoster\\learn-edx-dev330x-python\\parent_dir\\files_exercises\n",
      "Creating 100 text files\n",
      "Creating 5 directories\n",
      "Environment setup completed!\n"
     ]
    }
   ],
   "source": [
    "# Do not modify or add anything to this code segment.\n",
    "# This code segment must be run before attempting any of the tasks in this lesson.\n",
    "# It prepares the directories and files necessary to complete the tasks.\n",
    "\n",
    "import os, random, shutil\n",
    "\n",
    "# Navigate to `parent_dir` directory (if not already in it)\n",
    "current_path = os.getcwd()\n",
    "if (\"parent_dir\" in current_path):\n",
    "    nb_path = current_path.split(\"parent_dir\")[0]\n",
    "else:\n",
    "    nb_path = current_path\n",
    "print(\"Changing working dir to parent_dir\")\n",
    "os.chdir(os.path.join(nb_path,'parent_dir'))\n",
    "print(\"Current working directory:\", os.getcwd())\n",
    "\n",
    "# Remove the `files_exercises` directory (if it exists)\n",
    "if('files_exercises' in os.listdir()):\n",
    "    print('Removing \"files_exercises\"')\n",
    "    shutil.rmtree('files_exercises')\n",
    "    \n",
    "# Create a new directory called `files_exercises`\n",
    "print('Making \"files_exercises\"')\n",
    "os.mkdir('files_exercises')\n",
    "\n",
    "# Change the working directory to `files_exercises`\n",
    "print('Changing working directory to \"files_exercises\"')\n",
    "os.chdir('files_exercises')\n",
    "\n",
    "# Display the current working directory to verify you are in the correct location\n",
    "print(\"Current working directory:\", os.getcwd())\n",
    "\n",
    "# Create 100 text files, the first line of each file is a random number in the range [1000, 9999]\n",
    "print(\"Creating 100 text files\")\n",
    "random.seed(25000) # to get the same random numbers every time the setup runs\n",
    "for i in range(100):\n",
    "    file_name = str(i) + \".txt\"\n",
    "    f = open(file_name, 'w')\n",
    "    f.write(str(random.randint(1000, 9999)))\n",
    "    f.close()\n",
    "\n",
    "# Create 5 directories\n",
    "print(\"Creating 5 directories\")\n",
    "for i in range(1, 6):\n",
    "    os.mkdir(\"dir_\"+str(i))\n",
    "\n",
    "print(\"Environment setup completed!\")"
   ]
  },
  {
   "cell_type": "markdown",
   "metadata": {},
   "source": [
    "## Deleting Files"
   ]
  },
  {
   "cell_type": "code",
   "execution_count": 11,
   "metadata": {},
   "outputs": [
    {
     "name": "stdout",
     "output_type": "stream",
     "text": [
      "Content of \"files_exercises\" before removing the files\n",
      "['0.txt', '1.txt', '10.txt', '11.txt', '12.txt', '13.txt', '14.txt', '15.txt', '16.txt', '17.txt', '18.txt', '19.txt', '2.txt', '20.txt', '21.txt', '22.txt', '23.txt', '24.txt', '25.txt', '26.txt', '27.txt', '28.txt', '29.txt', '3.txt', '30.txt', '31.txt', '32.txt', '33.txt', '34.txt', '35.txt', '36.txt', '37.txt', '38.txt', '39.txt', '4.txt', '40.txt', '41.txt', '42.txt', '43.txt', '44.txt', '45.txt', '46.txt', '47.txt', '48.txt', '49.txt', '5.txt', '50.txt', '51.txt', '52.txt', '53.txt', '54.txt', '55.txt', '56.txt', '57.txt', '58.txt', '59.txt', '6.txt', '60.txt', '61.txt', '62.txt', '63.txt', '64.txt', '65.txt', '66.txt', '67.txt', '68.txt', '69.txt', '7.txt', '70.txt', '71.txt', '72.txt', '73.txt', '74.txt', '75.txt', '76.txt', '77.txt', '78.txt', '79.txt', '8.txt', '80.txt', '81.txt', '82.txt', '83.txt', '84.txt', '85.txt', '86.txt', '87.txt', '88.txt', '89.txt', '9.txt', '90.txt', '91.txt', '92.txt', '93.txt', '94.txt', '95.txt', '96.txt', '97.txt', '98.txt', '99.txt', 'dir_1', 'dir_2', 'dir_3', 'dir_4', 'dir_5']\n",
      "removing: 0.txt\n",
      "removing: 1.txt\n",
      "removing: 2.txt\n",
      "removing: 3.txt\n",
      "removing: 4.txt\n",
      "removing: 5.txt\n",
      "removing: 6.txt\n",
      "removing: 7.txt\n",
      "removing: 8.txt\n",
      "removing: 9.txt\n",
      "Content of \"files_exercises\" after removing the files\n",
      "['10.txt', '11.txt', '12.txt', '13.txt', '14.txt', '15.txt', '16.txt', '17.txt', '18.txt', '19.txt', '20.txt', '21.txt', '22.txt', '23.txt', '24.txt', '25.txt', '26.txt', '27.txt', '28.txt', '29.txt', '30.txt', '31.txt', '32.txt', '33.txt', '34.txt', '35.txt', '36.txt', '37.txt', '38.txt', '39.txt', '40.txt', '41.txt', '42.txt', '43.txt', '44.txt', '45.txt', '46.txt', '47.txt', '48.txt', '49.txt', '50.txt', '51.txt', '52.txt', '53.txt', '54.txt', '55.txt', '56.txt', '57.txt', '58.txt', '59.txt', '60.txt', '61.txt', '62.txt', '63.txt', '64.txt', '65.txt', '66.txt', '67.txt', '68.txt', '69.txt', '70.txt', '71.txt', '72.txt', '73.txt', '74.txt', '75.txt', '76.txt', '77.txt', '78.txt', '79.txt', '80.txt', '81.txt', '82.txt', '83.txt', '84.txt', '85.txt', '86.txt', '87.txt', '88.txt', '89.txt', '90.txt', '91.txt', '92.txt', '93.txt', '94.txt', '95.txt', '96.txt', '97.txt', '98.txt', '99.txt', 'dir_1', 'dir_2', 'dir_3', 'dir_4', 'dir_5']\n"
     ]
    }
   ],
   "source": [
    "# [ ] Complete the following program to delete the first 10 files inside `files_exercises` (0.txt, 1.txt ... 9.txt)\n",
    "# Make sure the to run the environment setup code before running your own program.\n",
    "\n",
    "import os\n",
    "\n",
    "if ('files_exercises' not in os.getcwd()):\n",
    "    print(\"STOP!!!! Run the environment setup code!\")\n",
    "\n",
    "# list the content of `files_exercises`\n",
    "print('Content of \"files_exercises\" before removing the files')\n",
    "print(os.listdir()) \n",
    "\n",
    "for i in range(0, 10):\n",
    "    file_path = str(i) + \".txt\"\n",
    "    print(\"removing: %s\" % (file_path))\n",
    "    os.remove(file_path)\n",
    "    \n",
    "# list the content of `files_exercises`\n",
    "print('Content of \"files_exercises\" after removing the files')\n",
    "print(os.listdir()) \n",
    "\n",
    "\n"
   ]
  },
  {
   "cell_type": "markdown",
   "metadata": {},
   "source": [
    "---\n",
    "<font size=\"6\" color=\"#00A0B2\"  face=\"verdana\"> <B>Concepts</B></font>  \n",
    "\n",
    "\n",
    "## Checking File Existence\n",
    "\n",
    "\n",
    "[![view video](https://iajupyterprodblobs.blob.core.windows.net/imagecontainer/common/play_video.png)](https://www.youtube.com/watch?v=PbXCwHKlgCk)\n",
    "\n",
    "In the previous section, you deleted a file assuming that it exists and assuming it is actually a file. In reality, these assumptions are not always true and you should consider them when writing programs that deal with files.\n",
    "\n",
    "#### Removing a file that doesn't exist\n",
    "Raises a `FileNotFoundError` exception. \n",
    "\n",
    "```python\n",
    "# Removing a file that does not exist\n",
    "file_path = \"parent_dir/fictitious_file.txt\"\n",
    "os.remove(file_path)\n",
    "\n",
    "-------------------------------------------------------------------------\n",
    "FileNotFoundError                       Traceback (most recent call last)\n",
    "<ipython-input-8-9e62af9a8388> in <module>()\n",
    "      1 # Removing a file that does not exist\n",
    "      2 file_path = \"parent_dir/fictitious_file.txt\"\n",
    "----> 3 os.remove(file_path)\n",
    "\n",
    "FileNotFoundError: [Errno 2] No such file or directory: 'parent_dir/fictitious_file.txt'\n",
    "```\n",
    "\n",
    "#### Removing a directory using `os.remove`\n",
    "When a directory is passed as an argument for `os.remove` a `PermissionError` is raised.\n",
    "\n",
    "```python\n",
    "# Passing a directory path to os.remove\n",
    "dir_path = \"parent_dir\"\n",
    "os.remove(dir_path)\n",
    "\n",
    "-------------------------------------------------------------------------\n",
    "PermissionError                         Traceback (most recent call last)\n",
    "<ipython-input-9-698c1518adf7> in <module>()\n",
    "      1 # Passing a directory path to os.remove\n",
    "      2 dir_path = \"parent_dir\"\n",
    "----> 3 os.remove(dir_path)\n",
    "\n",
    "PermissionError: [Errno 1] Operation not permitted: 'parent_dir'\n",
    "```\n",
    "\n",
    "### Simple solution\n",
    "In module 1 you were able to check if a path exists using `os.path.exists(path)`; in addition, you were able to figure out if a `path` is a file or directory using `os.path.isfile` and `os.path.isdir` respectively. You can use these functions to test a path and avoid the exceptions above."
   ]
  },
  {
   "cell_type": "markdown",
   "metadata": {},
   "source": [
    "---\n",
    "<font size=\"6\" color=\"#00A0B2\"  face=\"verdana\"> <B>Examples</B></font>\n"
   ]
  },
  {
   "cell_type": "code",
   "execution_count": 6,
   "metadata": {},
   "outputs": [
    {
     "name": "stdout",
     "output_type": "stream",
     "text": [
      "path does not exist\n"
     ]
    }
   ],
   "source": [
    "import os.path\n",
    "\n",
    "file_path = \"parent_dir/fictitious_file.txt\"\n",
    "\n",
    "# Removing a file\n",
    "\n",
    "# Check if the path exists\n",
    "if (os.path.exists(file_path)):\n",
    "    if (os.path.isfile(file_path)):\n",
    "        os.remove(file_path)\n",
    "    else:\n",
    "        print(\"Cannot remove a directory\")\n",
    "else:\n",
    "    print(\"path does not exist\")"
   ]
  },
  {
   "cell_type": "code",
   "execution_count": 7,
   "metadata": {},
   "outputs": [
    {
     "name": "stdout",
     "output_type": "stream",
     "text": [
      "path does not exist\n"
     ]
    }
   ],
   "source": [
    "import os.path\n",
    "\n",
    "file_path = \"parent_dir\"\n",
    "\n",
    "# Removing a file\n",
    "\n",
    "# Check if the path exists\n",
    "if (os.path.exists(file_path)):\n",
    "    if (os.path.isfile(file_path)):\n",
    "        os.remove(file_path)\n",
    "    else:\n",
    "        print(\"Cannot remove a directory\")\n",
    "else:\n",
    "    print(\"path does not exist\")"
   ]
  },
  {
   "cell_type": "markdown",
   "metadata": {},
   "source": [
    "---\n",
    "<font size=\"6\" color=\"#B24C00\"  face=\"verdana\"> <B>Task 2</B></font>\n",
    "\n",
    "## Checking File Existence\n"
   ]
  },
  {
   "cell_type": "code",
   "execution_count": 8,
   "metadata": {},
   "outputs": [
    {
     "name": "stdout",
     "output_type": "stream",
     "text": [
      "['0.txt', '1.txt', '10.txt', '11.txt', '12.txt', '13.txt', '14.txt', '15.txt', '16.txt', '17.txt', '18.txt', '19.txt', '2.txt', '20.txt', '21.txt', '22.txt', '23.txt', '24.txt', '25.txt', '26.txt', '27.txt', '28.txt', '29.txt', '3.txt', '30.txt', '31.txt', '32.txt', '33.txt', '34.txt', '35.txt', '36.txt', '37.txt', '38.txt', '39.txt', '4.txt', '40.txt', '41.txt', '42.txt', '43.txt', '44.txt', '45.txt', '46.txt', '47.txt', '48.txt', '49.txt', '5.txt', '50.txt', '51.txt', '52.txt', '53.txt', '54.txt', '55.txt', '56.txt', '57.txt', '58.txt', '59.txt', '6.txt', '60.txt', '61.txt', '62.txt', '63.txt', '64.txt', '65.txt', '66.txt', '67.txt', '68.txt', '69.txt', '7.txt', '70.txt', '71.txt', '72.txt', '73.txt', '74.txt', '75.txt', '76.txt', '77.txt', '78.txt', '79.txt', '8.txt', '80.txt', '81.txt', '82.txt', '83.txt', '84.txt', '85.txt', '86.txt', '87.txt', '88.txt', '89.txt', '9.txt', '90.txt', '91.txt', '92.txt', '93.txt', '94.txt', '95.txt', '96.txt', '97.txt', '98.txt', '99.txt', 'dir_1', 'dir_2', 'dir_3', 'dir_4', 'dir_5']\n"
     ]
    }
   ],
   "source": [
    "# [ ] Write a program to delete all the even numbered files inside `files_exercises`\n",
    "# Make sure the to run the environment setup code before running your own program.\n",
    "\n",
    "import os\n",
    "\n",
    "if ('files_exercises' not in os.getcwd()):\n",
    "    print(\"STOP!!!! Run the environment setup code!\")\n",
    "\n",
    "#TODO: Your code goes here\n",
    "print(os.listdir()) \n"
   ]
  },
  {
   "cell_type": "code",
   "execution_count": null,
   "metadata": {
    "collapsed": true
   },
   "outputs": [],
   "source": [
    "# [ ] Write a program to delete all the directories inside `files_exercises`\n",
    "# Make sure the to run the environment setup code before running your own program.\n",
    "\n",
    "import os\n",
    "\n",
    "if ('files_exercises' not in os.getcwd()):\n",
    "    print(\"STOP!!!! Run the environment setup code!\")\n",
    "\n",
    "#TODO: Your code goes here\n",
    "\n"
   ]
  },
  {
   "cell_type": "code",
   "execution_count": null,
   "metadata": {
    "collapsed": true
   },
   "outputs": [],
   "source": [
    "# [ ] Write a program to ask the user for a file number, \n",
    "# then delete the file if it exists or display an appropriate error message if it does not.\n",
    "# Make sure the to run the environment setup code before running your own program.\n",
    "\n",
    "# Test your program with the following:\n",
    "# case 1: user inputs 84, 84.txt should be deleted\n",
    "# case 2: user inputs 84 (again), a File does not exist message is printed\n",
    "# case 3: user inputs 5, 5.txt should be deleted\n",
    "\n",
    "import os\n",
    "\n",
    "if ('files_exercises' not in os.getcwd()):\n",
    "    print(\"STOP!!!! Run the environment setup code!\")\n",
    "\n",
    "#TODO: Your code goes here\n",
    "\n"
   ]
  },
  {
   "cell_type": "markdown",
   "metadata": {},
   "source": [
    "---\n",
    "<font size=\"6\" color=\"#00A0B2\"  face=\"verdana\"> <B>Concepts</B></font>  \n",
    "\n",
    "## Handling File Exceptions\n",
    "\n",
    "[![view video](https://iajupyterprodblobs.blob.core.windows.net/imagecontainer/common/play_video.png)](https://www.youtube.com/watch?v=E_e8PbgSqYg)\n",
    "\n",
    "In the previous example, you anticipated some errors and tried to avoid them by testing that a path exists and whether it is to a file or directory. However, you still assumed the results of these tests are static and won't change while your program is running. This assumption might lead to errors again. For example, say you test for the existence of a file and determine that the file exists at the given path, and right after that another program moves the file; if your program attempts to remove the file, it will raise a `FileNotFoundError` because the file no longer exists in that location. Of course, this is considered an unhandled exception and your program will stop executing and display the error message as before.\n",
    "\n",
    "Python's philosophy in this case is to deal with these errors as exceptions and handle them using the techniques you saw in a previous lesson. This way, you can also deal with unexpected exceptions."
   ]
  },
  {
   "cell_type": "markdown",
   "metadata": {},
   "source": [
    "---\n",
    "<font size=\"6\" color=\"#00A0B2\"  face=\"verdana\"> <B>Examples</B></font>\n",
    "\n",
    "In these examples we use exception handling to make sure that a file exists and that it is a file."
   ]
  },
  {
   "cell_type": "code",
   "execution_count": null,
   "metadata": {
    "collapsed": true
   },
   "outputs": [],
   "source": [
    "import os.path\n",
    "\n",
    "file_path = \"parent_dir/fictitious_file.txt\"\n",
    "\n",
    "# Remove a file\n",
    "\n",
    "try:\n",
    "    os.remove(file_path)\n",
    "except FileNotFoundError as exception_object:\n",
    "    print(\"Cannot find file: \", exception_object)\n",
    "except PermissionError as exception_object:\n",
    "    print(\"Cannot delete a directory: \", exception_object)\n",
    "except Exception as exception_object:\n",
    "    print(\"Unexpected exception: \", exception_object)"
   ]
  },
  {
   "cell_type": "code",
   "execution_count": null,
   "metadata": {
    "collapsed": true
   },
   "outputs": [],
   "source": [
    "import os.path\n",
    "\n",
    "file_path = \"parent_dir\"\n",
    "\n",
    "# Remove a file\n",
    "\n",
    "try:\n",
    "    os.remove(file_path)\n",
    "except FileNotFoundError as exception_object:\n",
    "    print(\"Cannot find file: \", exception_object)\n",
    "except PermissionError as exception_object:\n",
    "    print(\"Cannot delete a directory: \", exception_object)\n",
    "except Exception as exception_object:\n",
    "    print(\"Unexpected exception: \", exception_object)"
   ]
  },
  {
   "cell_type": "markdown",
   "metadata": {},
   "source": [
    "---\n",
    "<font size=\"6\" color=\"#B24C00\"  face=\"verdana\"> <B>Task 3</B></font>\n",
    "\n",
    "## Handling File Exceptions\n"
   ]
  },
  {
   "cell_type": "code",
   "execution_count": null,
   "metadata": {
    "collapsed": true
   },
   "outputs": [],
   "source": [
    "# [ ] Write a program to ask the user for a file number, \n",
    "# then delete the file if it exists or display an appropriate error message if it does not.\n",
    "# Use file exception handling instead of file existence tests.\n",
    "# Make sure to run the environment setup code before running your own program.\n",
    "\n",
    "# Test your program with the following:\n",
    "# Case 1: When the user inputs 84, the program should delete the file 84.txt\n",
    "# Case 2: When the user inputs 84 (again), the program should print a File Not Found error message\n",
    "# Case 3: When the user inputs 5, the program should delete the file 5.txt\n",
    "\n",
    "import os\n",
    "\n",
    "if ('files_exercises' not in os.getcwd()):\n",
    "    print(\"STOP!!!! Run the environment setup code!\")\n",
    "    \n",
    "    \n",
    "#TODO: Your code goes here\n",
    "\n"
   ]
  },
  {
   "cell_type": "markdown",
   "metadata": {},
   "source": [
    "---\n",
    "<font size=\"6\" color=\"#00A0B2\"  face=\"verdana\"> <B>Concepts</B></font>  \n",
    "\n",
    "\n",
    "## `with` Statements\n",
    "\n",
    "\n",
    "[![view video](https://iajupyterprodblobs.blob.core.windows.net/imagecontainer/common/play_video.png)](https://www.youtube.com/watch?v=r0Cw5dyrr_Y)\n",
    "\n",
    "After interacting with a file in Python, it is very important to close the file to ensure that all output is written properly and the resources are freed. Sometimes an exception is raised before reaching the `close()` statement, and the file is kept open. This issue can be resolved by placing the `close()` statement inside a `finally` clause. However, because the process of opening and closing a file is very common, Python provides a succinct `with` statement that performs the same task. The syntax of the `with` statement is:\n",
    "\n",
    "```python\n",
    "with open(FILE_NAME, MODE) as VARIABLE:\n",
    "    code block\n",
    "```\n"
   ]
  },
  {
   "cell_type": "markdown",
   "metadata": {},
   "source": [
    "---\n",
    "<font size=\"6\" color=\"#00A0B2\"  face=\"verdana\"> <B>Examples</B></font>\n",
    "\n",
    "### Without a `with` statement\n",
    "In this example, you see that the file is still open after the `except` statement because `file.close()` is never reached."
   ]
  },
  {
   "cell_type": "code",
   "execution_count": null,
   "metadata": {
    "collapsed": true
   },
   "outputs": [],
   "source": [
    "file_path = \"parent_dir/text_file.txt\"\n",
    "\n",
    "try:\n",
    "    file = open(file_path, 'r')\n",
    "    x = int(file.readline()) # Raise an exception if lines are not numeric\n",
    "    file.close() # Might never be reached if file.write raised an error\n",
    "except Exception as exception_object:\n",
    "    print(\"Unexpected exception:\", exception_object)\n",
    "\n",
    "print(\"File is closed?\", file.closed)"
   ]
  },
  {
   "cell_type": "markdown",
   "metadata": {},
   "source": [
    "### Using a `finally` statement\n",
    "The `finally` clause will close the file whether an exception was raised or not."
   ]
  },
  {
   "cell_type": "code",
   "execution_count": null,
   "metadata": {
    "collapsed": true
   },
   "outputs": [],
   "source": [
    "file_path = \"parent_dir/text_file.txt\"\n",
    "\n",
    "try:\n",
    "    file = open(file_path, 'r')\n",
    "    x = int(file.readline()) #raise an exception if lines are not numeric\n",
    "except Exception as exception_object:\n",
    "    print(\"Unexpected exception:\", exception_object)\n",
    "finally:\n",
    "    file.close() # will be executed whether an exception was raised or not\n",
    "\n",
    "print(\"File is closed?\", file.closed)"
   ]
  },
  {
   "cell_type": "markdown",
   "metadata": {},
   "source": [
    "### Using a `with` statement\n",
    "You need not explicitly close the file; the `with` statement will do it for you."
   ]
  },
  {
   "cell_type": "code",
   "execution_count": null,
   "metadata": {
    "collapsed": true
   },
   "outputs": [],
   "source": [
    "file_path = \"parent_dir/text_file.txt\"\n",
    "\n",
    "try:\n",
    "    with open(file_path, 'r') as file:\n",
    "        x = int(file.readline()) #raise an exception if lines are not numeric\n",
    "except Exception as exception_object:\n",
    "    print(\"Unexpected exception\", exception_object)\n",
    "\n",
    "print(\"File is closed?\", file.closed)"
   ]
  },
  {
   "cell_type": "markdown",
   "metadata": {},
   "source": [
    "---\n",
    "<font size=\"6\" color=\"#B24C00\"  face=\"verdana\"> <B>Task 4</B></font>\n",
    "\n",
    "## `with` Statements"
   ]
  },
  {
   "cell_type": "code",
   "execution_count": null,
   "metadata": {
    "collapsed": true
   },
   "outputs": [],
   "source": [
    "# [ ] Write a program to print the first line of every file inside `files_exercises`\n",
    "# Use a `with` statement to open (and close) every file\n",
    "# Make sure the to run the environment setup code before running your own program.\n",
    "\n",
    "\n",
    "import os\n",
    "\n",
    "if ('files_exercises' not in os.getcwd()):\n",
    "    print(\"STOP!!!! Run the environment setup code!\")\n",
    "\n",
    "    \n",
    "#TODO: Your code goes here\n",
    "\n"
   ]
  }
 ],
 "metadata": {
  "kernelspec": {
   "display_name": "Python 3",
   "language": "python",
   "name": "python3"
  },
  "language_info": {
   "codemirror_mode": {
    "name": "ipython",
    "version": 3
   },
   "file_extension": ".py",
   "mimetype": "text/x-python",
   "name": "python",
   "nbconvert_exporter": "python",
   "pygments_lexer": "ipython3",
   "version": "3.6.4"
  }
 },
 "nbformat": 4,
 "nbformat_minor": 2
}
