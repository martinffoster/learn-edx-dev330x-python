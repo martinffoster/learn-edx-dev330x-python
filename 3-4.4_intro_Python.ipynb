{
 "cells": [
  {
   "cell_type": "markdown",
   "metadata": {},
   "source": [
    "# Section 4.4: Documenting Functions (`pydoc`)\n",
    "* pydoc\n",
    "\n",
    "### Students will be able to:\n",
    "* Use pydoc to generate text documentation\n",
    "* Use pydoc to generate HTML documentation"
   ]
  },
  {
   "cell_type": "markdown",
   "metadata": {},
   "source": [
    "---\n",
    "<font size=\"6\" color=\"#00A0B2\"  face=\"verdana\"> <B>Concepts</B></font>  \n",
    "\n",
    "\n",
    "## Generating Documentation by Using `pydoc`\n",
    "\n",
    "[![view video](https://iajupyterprodblobs.blob.core.windows.net/imagecontainer/common/play_video.png)](https://www.youtube.com/watch?v=wo8V_Wj-gCg)\n",
    "\n",
    "`pydoc` is a Python module that can automatically generate documentation using the docstrings in a module. It imports the module to generate its documentation; therefore, you should always use `__name__ == \"__main__\"` to suppress any function from running when the documentation is being generated. The output of `pydoc` can be in text format or HTML format. \n",
    "\n",
    "To generate text documentation for a module contained in `test.py`, run the following command:\n",
    "\n",
    "```bash\n",
    "pydoc test\n",
    "```\n",
    "\n",
    "To generate HTML documentation for `test.py`, run the command with the `-w` flag as follows:\n",
    "\n",
    "```bash\n",
    "pydoc -w test\n",
    "```"
   ]
  },
  {
   "cell_type": "markdown",
   "metadata": {},
   "source": [
    "---\n",
    "<font size=\"6\" color=\"#00A0B2\"  face=\"verdana\"> <B>Examples</B></font>\n"
   ]
  },
  {
   "cell_type": "code",
   "execution_count": null,
   "metadata": {
    "collapsed": true
   },
   "outputs": [],
   "source": [
    "%cd command_line/"
   ]
  },
  {
   "cell_type": "markdown",
   "metadata": {},
   "source": [
    "## Converting Celsius to Fahrenheit"
   ]
  },
  {
   "cell_type": "code",
   "execution_count": null,
   "metadata": {
    "collapsed": true
   },
   "outputs": [],
   "source": [
    "%%writefile c2f.py\n",
    "\n",
    "def C2F(degrees_celsius):\n",
    "    \"\"\" Convert Celsius to Fahrenheit\"\"\"\n",
    "    return degrees_celsius * (9/5) + 32\n",
    "\n",
    "print(\"Accessing docstrings using __doc__:\\n\")\n",
    "print(C2F.__doc__)"
   ]
  },
  {
   "cell_type": "markdown",
   "metadata": {},
   "source": [
    "Running `pydoc` in the terminal generates:"
   ]
  },
  {
   "cell_type": "code",
   "execution_count": null,
   "metadata": {
    "collapsed": true
   },
   "outputs": [],
   "source": [
    "%%bash\n",
    "\n",
    "pydoc c2f"
   ]
  },
  {
   "cell_type": "markdown",
   "metadata": {},
   "source": [
    "## Converting Kilograms (kg) to Pounds (lb)"
   ]
  },
  {
   "cell_type": "code",
   "execution_count": null,
   "metadata": {
    "collapsed": true
   },
   "outputs": [],
   "source": [
    "%%writefile kg2lb.py\n",
    "\n",
    "def kg2lb(kilograms):\n",
    "    \"\"\"\n",
    "    Convert kilograms to pounds\n",
    "    \n",
    "    args:\n",
    "        kilograms: float weight in kg \n",
    "    \n",
    "    returns:\n",
    "        pounds: float weight in lb\n",
    "    \"\"\"\n",
    "    \n",
    "    pounds = kilograms * 2.20462262185\n",
    "    return pounds\n",
    "\n",
    "if __name__ == \"__main__\":\n",
    "    pass"
   ]
  },
  {
   "cell_type": "markdown",
   "metadata": {},
   "source": [
    "Running `pydoc` in the terminal generates:"
   ]
  },
  {
   "cell_type": "code",
   "execution_count": null,
   "metadata": {
    "collapsed": true
   },
   "outputs": [],
   "source": [
    "%%bash\n",
    "\n",
    "pydoc kg2lb"
   ]
  },
  {
   "cell_type": "markdown",
   "metadata": {
    "collapsed": true
   },
   "source": [
    "---\n",
    "<font size=\"6\" color=\"#B24C00\"  face=\"verdana\"> <B>Task 1</B></font>\n",
    "\n",
    "## Generating Documentation by Using `pydoc`"
   ]
  },
  {
   "cell_type": "markdown",
   "metadata": {},
   "source": [
    "The following program is the currency converter from a previous task. Generate the text documentation.\n",
    "\n",
    "NOTE: You do not need to complete the function's code to generate the documentation pages."
   ]
  },
  {
   "cell_type": "code",
   "execution_count": null,
   "metadata": {
    "collapsed": true
   },
   "outputs": [],
   "source": [
    "%%writefile currency_converter.py\n",
    "\n",
    "def USD2EUR(amount):\n",
    "    \"\"\"\n",
    "    Convert amount from US Dollars to Euros.\n",
    "    \n",
    "    Use 1 USD = 0.831467 EUR\n",
    "    \n",
    "    args:\n",
    "        amount: US dollar amount (float)\n",
    "        \n",
    "    returns:\n",
    "        value: the equivalent of amount in Euros (float)\n",
    "    \"\"\"\n",
    "    #TODO: Your code goes here\n",
    "    return value\n",
    "\n",
    "def EUR2GBP(amount):\n",
    "    \"\"\"\n",
    "    Convert amount from Euros to British Pounds.\n",
    "    \n",
    "    Use 1 EUR = 0.889358 GBP\n",
    "    \n",
    "    args:\n",
    "        amount: Euros amount (float)\n",
    "        \n",
    "    returns:\n",
    "        value: the equivalent of amount in GBP (float)\n",
    "    \"\"\"\n",
    "    #TODO: Your code goes here\n",
    "    return value\n",
    "\n",
    "def USD2GBP(amount):\n",
    "    \"\"\"\n",
    "    Convert amount from US Dollars to British Pounds.\n",
    "    \n",
    "    The conversion rate is unknown, you have to use USD2EUR and EUR2GBP\n",
    "    \n",
    "    args:\n",
    "        amount: US dollar amount (float)\n",
    "        \n",
    "    returns:\n",
    "        value: the equivalent of amount in British Pounds (float)\n",
    "    \"\"\"\n",
    "    #TODO: Your code goes here\n",
    " \n",
    "    return value\n",
    "\n",
    "def main():\n",
    "    amount = float(input(\"Enter amount in USD: $\"))\n",
    "    \n",
    "    # In British Pounds\n",
    "    gbp = USD2GBP(amount)\n",
    "    \n",
    "    print(\"${:.2f} USD = {:.2f} GBP\".format(amount, gbp))\n",
    "    \n",
    "if __name__ == '__main__':\n",
    "    main()"
   ]
  },
  {
   "cell_type": "code",
   "execution_count": null,
   "metadata": {
    "collapsed": true
   },
   "outputs": [],
   "source": [
    "%%bash\n",
    "\n",
    "pydoc currency_converter"
   ]
  }
 ],
 "metadata": {
  "kernelspec": {
   "display_name": "Python 3",
   "language": "python",
   "name": "python3"
  },
  "language_info": {
   "codemirror_mode": {
    "name": "ipython",
    "version": 3
   },
   "file_extension": ".py",
   "mimetype": "text/x-python",
   "name": "python",
   "nbconvert_exporter": "python",
   "pygments_lexer": "ipython3",
   "version": "3.6.3"
  }
 },
 "nbformat": 4,
 "nbformat_minor": 2
}
