{
 "cells": [
  {
   "cell_type": "markdown",
   "metadata": {},
   "source": [
    "# Section 4.2: Variable Scope\n",
    "* def\n",
    "* global\n",
    "\n",
    "### Students will be able to:\n",
    "* Define local variables\n",
    "* Read and modify the values of local variables\n",
    "* Identify the scope of a variable\n",
    "* Define global variables\n",
    "* Read and modify the values of global variables from local scopes"
   ]
  },
  {
   "cell_type": "markdown",
   "metadata": {},
   "source": [
    "---\n",
    "<font size=\"6\" color=\"#00A0B2\"  face=\"verdana\"> <B>Concepts</B></font>  \n",
    "\n",
    "\n",
    "## Local Variables\n",
    "\n",
    "[![view video](https://iajupyterprodblobs.blob.core.windows.net/imagecontainer/common/play_video.png)](https://www.youtube.com/watch?v=VWL7pfdFEeM)\n",
    "\n",
    "A variable in Python lives within a scope; the scope determines how the variable is accessed and when it is deleted. A variable scope is determined by the place where it is initially assigned. There are two types of scopes: local and global. Parameters passed to a function and variables assigned within it are within the local scope of the function and are called local variables; variables assigned outside all functions in a module are within the global scope of the module and are called global variables. \n",
    "\n",
    "Local scopes are created when a function is called, and destroyed when the function return to its caller. This means that you might have several local scopes that have different local variables within them. These local variables can be accessed and changed within their own local scopes; however, they cannot interact with variables from other local scopes and they cannot be accessed from the global scope. This is important because it allows you to use the same variable name in different functions without worrying about name conflicts or the collision of variables.\n",
    "\n",
    "The concept of a local scope guides you to think about functions as black boxes that can interact with your code only through arguments and returned values. When developing a function, you do not have to worry about a variable name being used in another function because you know that each will be local within its own function and can be accessed only from within that function.\n",
    "\n",
    "Generally speaking:\n",
    "* Local variables cannot be read or modified from the global scope\n",
    "* Local variables cannot be read or modified from other local scopes\n",
    "* The same variable name can be used in different functions without causing a conflict"
   ]
  },
  {
   "cell_type": "markdown",
   "metadata": {},
   "source": [
    "---\n",
    "<font size=\"6\" color=\"#00A0B2\"  face=\"verdana\"> <B>Examples</B></font>\n",
    "\n",
    "In the following examples, functions compute the areas and volumes of different geometric figures. The variable name `area` will be used in all functions to demonstrate the concepts of local scope and global scope. The demonstrated concepts also apply to other data types (such as lists and strings)."
   ]
  },
  {
   "cell_type": "markdown",
   "metadata": {},
   "source": [
    "### Local variables cannot be read or modified from the global scope"
   ]
  },
  {
   "cell_type": "code",
   "execution_count": null,
   "metadata": {
    "collapsed": true
   },
   "outputs": [],
   "source": [
    "# Compute the area of a square\n",
    "def square_area (side):\n",
    "    # area is a local variable in square_area\n",
    "    area = side ** 2\n",
    "    return area\n",
    "\n",
    "\n",
    "# Global scope\n",
    "square_area(2)\n",
    "\n",
    "# area is not within scope anymore and cannot be\n",
    "# accessed from this global scope\n",
    "print(area)"
   ]
  },
  {
   "cell_type": "markdown",
   "metadata": {},
   "source": [
    "### Local variables cannot be read or modified from other local scopes\n",
    "\n",
    "A local variable in one function cannot be accessed from another function."
   ]
  },
  {
   "cell_type": "code",
   "execution_count": null,
   "metadata": {
    "collapsed": true
   },
   "outputs": [],
   "source": [
    "# Compute the area of a square\n",
    "def square_area (side):\n",
    "    # area is a local variable in square_area\n",
    "    area = side ** 2\n",
    "    return area\n",
    "\n",
    "# Compute the volume of a cube\n",
    "def cube_volume (side):\n",
    "    # cube volume = area of base X side\n",
    "    volume = area * side # area is not defined within this scope\n",
    "    return volume\n",
    "\n",
    "# Global scope\n",
    "s = 2\n",
    "square_area(s)\n",
    "# area was deleted when the local scope of square_area was destroyed\n",
    "cube_volume(s)"
   ]
  },
  {
   "cell_type": "markdown",
   "metadata": {},
   "source": [
    "### The same variable name can be used in different functions without causing a conflict"
   ]
  },
  {
   "cell_type": "code",
   "execution_count": null,
   "metadata": {
    "collapsed": true
   },
   "outputs": [],
   "source": [
    "# Compute the area of a square\n",
    "def square_area (side):\n",
    "    # area is a local variable in square_area\n",
    "    # area does not conflict with the variable area in rectangle_area\n",
    "    area = side ** 2\n",
    "    print(\"square area =\", area)\n",
    "\n",
    "# Compute the area of a rectangle\n",
    "def rectangle_area (length, width):\n",
    "    # area is a local variable in rectangle_area\n",
    "    # area does not conflict with the variable area in square_area\n",
    "    area = length * width\n",
    "    print(\"rectangle area =\", area)\n",
    "\n",
    "# Global scope\n",
    "square_area(2)\n",
    "rectangle_area(2, 3)"
   ]
  },
  {
   "cell_type": "markdown",
   "metadata": {},
   "source": [
    "---\n",
    "<font size=\"6\" color=\"#B24C00\"  face=\"verdana\"> <B>Task 1</B></font>\n",
    "\n",
    "## Local Variables"
   ]
  },
  {
   "cell_type": "markdown",
   "metadata": {},
   "source": [
    "### Fix the Errors\n",
    "\n",
    "Return to the examples that generated errors and fix them so they function as expected."
   ]
  },
  {
   "cell_type": "code",
   "execution_count": null,
   "metadata": {
    "collapsed": true
   },
   "outputs": [],
   "source": [
    "# [ ] Fix the program below so it displays the area of a square with a side = 2\n",
    "\n",
    "# Compute the area of a square\n",
    "def square_area (side):\n",
    "    # area is a local variable in square_area\n",
    "    area = side ** 2\n",
    "    return area\n",
    "\n",
    "# Global scope\n",
    "square_area(2)\n",
    "\n",
    "# area is not within scope anymore and cannot be\n",
    "# accessed from this global scope\n",
    "print(area)\n",
    "\n"
   ]
  },
  {
   "cell_type": "code",
   "execution_count": null,
   "metadata": {
    "collapsed": true
   },
   "outputs": [],
   "source": [
    "# [ ] Fix the program below so it displays the area of a square with side = 2\n",
    "# and the volume of a cube with side = 2\n",
    "\n",
    "# Compute the area of a square\n",
    "def square_area (side):\n",
    "    # area is a local variable in square_area\n",
    "    area = side ** 2\n",
    "    return area\n",
    "\n",
    "# Compute the volume of a cube\n",
    "def cube_volume (side):\n",
    "    # cube volume = area of base X side\n",
    "    volume = area * side # area is not defined within this scope\n",
    "    return volume\n",
    "\n",
    "# Global scope\n",
    "s = 2\n",
    "square_area(s)\n",
    "# area was deleted when the local scope of square_area was destroyed\n",
    "cube_volume(s)\n",
    "\n"
   ]
  },
  {
   "cell_type": "markdown",
   "metadata": {},
   "source": [
    "### Currency Converter\n",
    "\n",
    "The same name for arguments and local variables can be used across different functions."
   ]
  },
  {
   "cell_type": "code",
   "execution_count": null,
   "metadata": {
    "collapsed": true
   },
   "outputs": [],
   "source": [
    "# [ ] The program below converts US Dollars to Euros, British Pounds, and Japanese Yen\n",
    "# Complete the functions USD2EUR, USD2GBP, USD2JPY so they all return the correct value\n",
    "\n",
    "def USD2EUR(amount):\n",
    "    \"\"\"\n",
    "    Convert amount from US Dollars to Euros.\n",
    "    \n",
    "    Use 1 USD = 0.831467 EUR\n",
    "    \n",
    "    args:\n",
    "        amount: US dollar amount (float)\n",
    "        \n",
    "    returns:\n",
    "        value: the equivalent of amount in Euros (float)\n",
    "    \"\"\"\n",
    "    #TODO: Your code goes here\n",
    "    return value\n",
    "\n",
    "def USD2GBP(amount):\n",
    "    \"\"\"\n",
    "    Convert amount from US Dollars to British Pounds.\n",
    "    \n",
    "    Use 1 USD = 0.739472 GBP\n",
    "    \n",
    "    args:\n",
    "        amount: US dollar amount (float)\n",
    "        \n",
    "    returns:\n",
    "        value: the equivalent of amount in British Pounds (float)\n",
    "    \"\"\"\n",
    "    #TODO: Your code goes here\n",
    "    return value\n",
    "\n",
    "def USD2JPY(amount):\n",
    "    \"\"\"\n",
    "    Convert amount from US Dollars to Japanese Yen.\n",
    "    \n",
    "    Use 1 USD = 112.656 JPY\n",
    "    \n",
    "    args:\n",
    "        amount: US dollar amount (float)\n",
    "        \n",
    "    returns:\n",
    "        value: the equivalent of amount in Japanese Yen (float)\n",
    "    \"\"\"\n",
    "    #TODO: Your code goes here\n",
    "    return value\n",
    "\n",
    "def main():\n",
    "    amount = float(input(\"Enter amount in USD: $\"))\n",
    "    \n",
    "    # In Euros\n",
    "    eur = USD2EUR(amount)\n",
    "    \n",
    "    # In British Pounds\n",
    "    gbp = USD2GBP(amount)\n",
    "    \n",
    "    # In Japanese Yen\n",
    "    jpy = USD2JPY(amount)\n",
    "    \n",
    "    print(\"${:.2f} USD = {:.2f} EUR, {:.2f} GBP, {:.2f} JPY\".format(amount, eur, gbp, jpy))\n",
    "    \n",
    "if __name__ == '__main__':\n",
    "    main()\n",
    "    \n",
    "    \n"
   ]
  },
  {
   "cell_type": "markdown",
   "metadata": {},
   "source": [
    "---\n",
    "<font size=\"6\" color=\"#00A0B2\"  face=\"verdana\"> <B>Concepts</B></font>  \n",
    "\n",
    "## Isolated Local Scopes\n",
    "\n",
    "[![view video](https://iajupyterprodblobs.blob.core.windows.net/imagecontainer/common/play_video.png)](https://www.youtube.com/watch?v=tudi7H3BGNc)\n",
    "\n",
    "When a function calls a subfunction, the current variables within the function scope are stored in memory, and another temporary local scope is created to accommodate the subfunction variables. The temporary local scope is destroyed when the subfunction returns; at that point, the original local scope becomes active again."
   ]
  },
  {
   "cell_type": "markdown",
   "metadata": {},
   "source": [
    "---\n",
    "<font size=\"6\" color=\"#00A0B2\"  face=\"verdana\"> <B>Examples</B></font>\n",
    "\n",
    "In this example, the function `area_diff` computes the area difference between a rectangle and a square. The `area_diff` function calls `square_area` and `rectangle_area`. All three functions use a local variable named `area` without any conflict. As you can see, using the same variable name in all three functions does not create an issue.\n",
    "\n",
    "When `area_diff` calls `square_area`, the current local variables within `area_diff` are stored in a location in memory called the _stack_, then a new local scope is created with new variables for `square_area`. The local scope of `area_diff` is still alive; however, it's inaccessible until `square_area` returns. Both `area_diff` and `square_area` use the variable `area`; however, the two variables live in two different local scopes and cannot affect each other. After `square_area` returns, the local scope of `area_diff` becomes active again until calling `rectangle_area`, and the cycle repeats.\n",
    "\n",
    "In summary, a variable called `area` is used in all three functions without any conflict. The content of the three variables are kept separate because they belong to three different local scopes."
   ]
  },
  {
   "cell_type": "code",
   "execution_count": null,
   "metadata": {
    "collapsed": true
   },
   "outputs": [],
   "source": [
    "# Compute the area of a square\n",
    "def square_area (side):\n",
    "    # area is a local variable in square_area\n",
    "    # area does not conflict with the variable area in rectangle_area or area_diff\n",
    "    area = side ** 2\n",
    "    return area\n",
    "\n",
    "# Compute the area of a rectangle\n",
    "def rectangle_area (length, width):\n",
    "    # area is a local variable in rectangle_area\n",
    "    # area does not conflict with the variable area in square_aream or area_diff\n",
    "    area = length * width\n",
    "    return area\n",
    "\n",
    "# Compute the area difference between a square and a rectangle\n",
    "def area_diff (side, length, width):\n",
    "    # square area\n",
    "    area1 = square_area(side) # defines area in its local scope\n",
    "    \n",
    "    # rectangle area\n",
    "    area2 = rectangle_area(length, width) # defines area in its local scope\n",
    "    \n",
    "    # area difference \n",
    "    area = area2 - area1 # area is local in area_diff local scope\n",
    "    \n",
    "    return area\n",
    "\n",
    "# Call the area_diff function\n",
    "print(\"Area difference = \", area_diff(2, 2, 3))"
   ]
  },
  {
   "cell_type": "markdown",
   "metadata": {},
   "source": [
    "---\n",
    "<font size=\"6\" color=\"#B24C00\"  face=\"verdana\"> <B>Task 2</B></font>\n",
    "\n",
    "## Isolated Local Scopes\n"
   ]
  },
  {
   "cell_type": "markdown",
   "metadata": {},
   "source": [
    "### Currency Converter\n",
    "The same variable name can be used across different functions, even when the functions call each other."
   ]
  },
  {
   "cell_type": "code",
   "execution_count": null,
   "metadata": {
    "collapsed": true
   },
   "outputs": [],
   "source": [
    "# [ ] The program below converts US Dollars to British Pounds. However, the conversion rate is unknown\n",
    "# Complete the functions USD2EUR, EUR2GBP, and USD2GBP so they all return the correct value\n",
    "# You should use USD2EUR and EUR2GBP in USD2GBP, do not try to find out the conversion rate\n",
    "\n",
    "def USD2EUR(amount):\n",
    "    \"\"\"\n",
    "    Convert amount from US Dollars to Euros.\n",
    "    \n",
    "    Use 1 USD = 0.831467 EUR\n",
    "    \n",
    "    args:\n",
    "        amount: US dollar amount (float)\n",
    "        \n",
    "    returns:\n",
    "        value: the equivalent of amount in Euros (float)\n",
    "    \"\"\"\n",
    "    #TODO: Your code goes here\n",
    "    return value\n",
    "\n",
    "def EUR2GBP(amount):\n",
    "    \"\"\"\n",
    "    Convert amount from Euros to British Pounds.\n",
    "    \n",
    "    Use 1 EUR = 0.889358 GBP\n",
    "    \n",
    "    args:\n",
    "        amount: Euros amount (float)\n",
    "        \n",
    "    returns:\n",
    "        value: the equivalent of amount in GBP (float)\n",
    "    \"\"\"\n",
    "    #TODO: Your code goes here\n",
    "    return value\n",
    "\n",
    "def USD2GBP(amount):\n",
    "    \"\"\"\n",
    "    Convert amount from US Dollars to British Pounds.\n",
    "    \n",
    "    The conversion rate is unknown, you have to use USD2EUR and EUR2GBP\n",
    "    \n",
    "    args:\n",
    "        amount: US dollar amount (float)\n",
    "        \n",
    "    returns:\n",
    "        value: the equivalent of amount in British Pounds (float)\n",
    "    \"\"\"\n",
    "    #TODO: Your code goes here\n",
    " \n",
    "    return value\n",
    "\n",
    "def main():\n",
    "    amount = float(input(\"Enter amount in USD: $\"))\n",
    "    \n",
    "    # In British Pounds\n",
    "    gbp = USD2GBP(amount)\n",
    "    \n",
    "    print(\"${:.2f} USD = {:.2f} GBP\".format(amount, gbp))\n",
    "    \n",
    "if __name__ == '__main__':\n",
    "    main()\n"
   ]
  },
  {
   "cell_type": "markdown",
   "metadata": {},
   "source": [
    "---\n",
    "<font size=\"6\" color=\"#00A0B2\"  face=\"verdana\"> <B>Concepts</B></font>  \n",
    "\n",
    "\n",
    "## Global Variables\n",
    "\n",
    "[![view video](https://iajupyterprodblobs.blob.core.windows.net/imagecontainer/common/play_video.png)](https://www.youtube.com/watch?v=ek3vf_x732k)\n",
    "\n",
    "A global variable is assigned outside all functions and lives within the global scope of the module. It exists from the time of its assignment until the program ends. Global variables are visible to all functions within the module and can be used within their different local scopes. Additionally, global variables can be used by expressions in the global scope. The value of a global variable can be changed from the global scope, and can also be modified from a local scope using the `global` statement (i.e. `global x = 4`). If (`global`) was not used, a local variable would be defined instead, and any changes to this new variable will not affect the global variable that bears the same name.\n",
    "\n",
    "Global variables are highly discouraged because they make your code hard to understand and follow. Imagine that 20 functions written by different developers all change one global variable; tracking the functionality of the program will be very challenging. Global variables are covered in this lesson because some developers use them for very specialized applications when there are no alternatives. You can write very complicated Python scripts without using global variables. It is OK, however, to use constant global variables that are accessible from all functions but will not (and cannot) be changed.\n",
    "\n",
    "Generally speaking:\n",
    "* Global variables are accessible from local scopes\n",
    "* Global variables can be changed from the global scope \n",
    "* Global variables can be changed  from a local scope using the `global` statement\n",
    "* If a local variable shares the same name with a global variable, changes in the local will not affect the global"
   ]
  },
  {
   "cell_type": "markdown",
   "metadata": {},
   "source": [
    "---\n",
    "<font size=\"6\" color=\"#00A0B2\"  face=\"verdana\"> <B>Examples</B></font>\n",
    "\n",
    "In the following examples, you will see how to define, read, and modify global variables."
   ]
  },
  {
   "cell_type": "markdown",
   "metadata": {},
   "source": [
    "## Global Variables\n",
    "\n",
    "### Global variables are accessible from local scopes"
   ]
  },
  {
   "cell_type": "markdown",
   "metadata": {},
   "source": [
    "#### Numeric variables"
   ]
  },
  {
   "cell_type": "code",
   "execution_count": null,
   "metadata": {
    "collapsed": true
   },
   "outputs": [],
   "source": [
    "# Global variable\n",
    "pi = 3.14\n",
    "\n",
    "# Compute the area of a circle\n",
    "def circle_area (radius):\n",
    "    # pi is accessible from this local scope\n",
    "    area = pi * radius ** 2\n",
    "    return area\n",
    "\n",
    "# Global scope\n",
    "a = circle_area(4)\n",
    "print(\"circle area =\", a)"
   ]
  },
  {
   "cell_type": "markdown",
   "metadata": {},
   "source": [
    "#### String variables"
   ]
  },
  {
   "cell_type": "code",
   "execution_count": null,
   "metadata": {
    "collapsed": true
   },
   "outputs": [],
   "source": [
    "# Global variable\n",
    "vowels = 'AaEeIiOoUiYy'\n",
    "\n",
    "# Count the number of vowels in a sentence\n",
    "def count_vowels(sentence):\n",
    "    # vowels is accessible from this local scope\n",
    "    count = 0\n",
    "    for c in sentence:\n",
    "        if c in vowels:\n",
    "            count = count + 1\n",
    "    return count\n",
    "\n",
    "# Global scope\n",
    "s = 'Monty Python'\n",
    "print('Number of vowels in \"{:s}\" = {:d}'.format(s, count_vowels(s)))"
   ]
  },
  {
   "cell_type": "markdown",
   "metadata": {},
   "source": [
    "### Global variables can be changed from a local scope\n",
    "When the value of a global variable is changed from a local scope, it stays changed even after the local scope has been destroyed."
   ]
  },
  {
   "cell_type": "markdown",
   "metadata": {},
   "source": [
    "#### Numeric variables"
   ]
  },
  {
   "cell_type": "code",
   "execution_count": null,
   "metadata": {
    "collapsed": true
   },
   "outputs": [],
   "source": [
    "# Global variable\n",
    "pi = 3.14\n",
    "\n",
    "# Compute the area of a circle\n",
    "def circle_area (radius):\n",
    "    # Define pi as a global variable in this scope\n",
    "    global pi \n",
    "    pi = 3.14159265359 # More accurate pi\n",
    "    area = pi * radius ** 2\n",
    "    return area\n",
    "\n",
    "# Global scope\n",
    "print(\"pi =\", pi)\n",
    "a = circle_area(4)\n",
    "print(\"More accurate circle area =\", a)\n",
    "print(\"Updated pi =\", pi) # Global variable pi changed in circle_area"
   ]
  },
  {
   "cell_type": "markdown",
   "metadata": {},
   "source": [
    "#### String variables"
   ]
  },
  {
   "cell_type": "code",
   "execution_count": null,
   "metadata": {
    "collapsed": true
   },
   "outputs": [],
   "source": [
    "# String global variable\n",
    "planet = 'Mercury'\n",
    "\n",
    "# function to change the current planet\n",
    "def planet_change(new_planet):\n",
    "    # Define planet as a global variable in this scope\n",
    "    global planet\n",
    "    planet = new_planet\n",
    "   \n",
    "# Global scope\n",
    "print(\"Planet =\", planet)\n",
    "planet_change('Mars')\n",
    "print(\"Planet =\", planet)"
   ]
  },
  {
   "cell_type": "markdown",
   "metadata": {},
   "source": [
    "### Assigning a value to a global variable in a local scope without `global`\n",
    "Changes to a local variable sharing the same name as a global variable are not reflected in the global variable."
   ]
  },
  {
   "cell_type": "markdown",
   "metadata": {},
   "source": [
    "#### Numeric variables"
   ]
  },
  {
   "cell_type": "code",
   "execution_count": null,
   "metadata": {
    "collapsed": true
   },
   "outputs": [],
   "source": [
    "# Global variable\n",
    "pi = 3.14\n",
    "\n",
    "# Compute the area of a circle\n",
    "def circle_area (radius):\n",
    "    # Assigning a value to pi without (global) makes it a local variable\n",
    "    pi = 3.14159265359 # more accurate pi\n",
    "    area = pi * radius ** 2\n",
    "    return area\n",
    "\n",
    "# Global scope\n",
    "print(\"pi =\", pi)\n",
    "a = circle_area(4)\n",
    "print(\"More accurate circle area =\", a)\n",
    "print(\"Unchanged pi =\", pi) # Global pi didn't change"
   ]
  },
  {
   "cell_type": "markdown",
   "metadata": {},
   "source": [
    "#### String variables"
   ]
  },
  {
   "cell_type": "code",
   "execution_count": null,
   "metadata": {
    "collapsed": true
   },
   "outputs": [],
   "source": [
    "# String global variable\n",
    "planet = 'Mercury'\n",
    "\n",
    "# Function to change the current planet\n",
    "def planet_change(new_planet):\n",
    "    planet = new_planet # planet is a local variable\n",
    "   \n",
    "# Global scope\n",
    "print(\"Planet = \", planet)\n",
    "planet_change('Mars')\n",
    "print(\"Planet = \", planet)"
   ]
  },
  {
   "cell_type": "markdown",
   "metadata": {},
   "source": [
    "### Global variables can be changed from the global scope"
   ]
  },
  {
   "cell_type": "markdown",
   "metadata": {},
   "source": [
    "#### Numeric variables"
   ]
  },
  {
   "cell_type": "code",
   "execution_count": null,
   "metadata": {
    "collapsed": true
   },
   "outputs": [],
   "source": [
    "# Global variable\n",
    "pi = 3.14\n",
    "\n",
    "# Compute the area of a circle\n",
    "def circle_area (radius):\n",
    "    # pi is accessible from this local scope\n",
    "    area = pi * radius ** 2\n",
    "    return area\n",
    "\n",
    "# Global scope\n",
    "# pi is changed before it is used in circle_area\n",
    "pi = 0\n",
    "a = circle_area(4)\n",
    "print(\"pi =\", pi)\n",
    "print(\"Wrong circle area =\", a)\n"
   ]
  },
  {
   "cell_type": "markdown",
   "metadata": {},
   "source": [
    "#### String variables"
   ]
  },
  {
   "cell_type": "code",
   "execution_count": null,
   "metadata": {
    "collapsed": true
   },
   "outputs": [],
   "source": [
    "# String global variable\n",
    "planet = 'Mercury'\n",
    "\n",
    "# Function to change the current planet\n",
    "def planet_change(new_planet):\n",
    "    planet = new_planet # planet is a local variable\n",
    "   \n",
    "print(\"Planet = \", planet)\n",
    "planet_change('Mars')\n",
    "print(\"Planet = \", planet) # Global variable (planet) did not change\n",
    "planet = \"Earth\" # Changing global variable (planet)\n",
    "print(\"Planet = \", planet)"
   ]
  },
  {
   "cell_type": "markdown",
   "metadata": {},
   "source": [
    "---\n",
    "<font size=\"6\" color=\"#B24C00\"  face=\"verdana\"> <B>Task 3</B></font>\n",
    "\n",
    "## Global Variables"
   ]
  },
  {
   "cell_type": "markdown",
   "metadata": {},
   "source": [
    "### Currency Converter"
   ]
  },
  {
   "cell_type": "code",
   "execution_count": null,
   "metadata": {
    "collapsed": true
   },
   "outputs": [],
   "source": [
    "# [ ] The following program converts an amount from US Dollars to Indian Rupees using the XCHANGE_RATE variable\n",
    "# Complete the function USD2INR so it performs the conversion\n",
    "\n",
    "XCHANGE_RATE = 63.6856 # = 1 USD\n",
    "\n",
    "def USD2INR(amount):\n",
    "    \"\"\"\n",
    "    Convert amount from US Dollars to Indian Rupees.\n",
    "    \n",
    "    Use XCHANGE_RATE\n",
    "    \n",
    "    args:\n",
    "        amount: US dollar amount (float)\n",
    "        \n",
    "    returns:\n",
    "        value: the equivalent of amount in Indian Rupees (float)\n",
    "    \"\"\"\n",
    "    #TODO: Your code goes here\n",
    "    return value\n",
    "\n",
    "print(\"Current exchange rate $1 USD = {} INR\".format(XCHANGE_RATE))\n",
    "amount = 220 #USD\n",
    "inr = USD2INR(amount)\n",
    "print(\"${} = {}\".format(amount, inr))\n",
    "\n",
    "\n"
   ]
  },
  {
   "cell_type": "code",
   "execution_count": null,
   "metadata": {
    "collapsed": true
   },
   "outputs": [],
   "source": [
    "# [ ] The following program calculates the equivalent of $220 USD in Indian Rupees, \n",
    "# then updates the exchange rate and performs the conversion again\n",
    "# Complete the functions USD2INR and change_rate so they function according to the specifications below\n",
    "\n",
    "XCHANGE_RATE = 63.6856 # = 1 USD\n",
    "\n",
    "def USD2INR(amount):\n",
    "    \"\"\"\n",
    "    Convert amount from US Dollars to Indian Rupees.\n",
    "    \n",
    "    Use XCHANGE_RATE\n",
    "    \n",
    "    args:\n",
    "        amount: US dollar amount (float)\n",
    "        \n",
    "    returns:\n",
    "        value: the equivalent of amount in Indian Rupees (float)\n",
    "    \"\"\"\n",
    "    #TODO: Your code goes here\n",
    "    return value\n",
    "\n",
    "def change_rate():\n",
    "    \"\"\"\n",
    "    Change the exchange rate to 63.6782\n",
    "    \n",
    "    args:\n",
    "        None\n",
    "    \n",
    "    returns:\n",
    "        None\n",
    "    \"\"\"\n",
    "    #TODO: Your code goes here\n",
    "    \n",
    "print(\"Current exchange rate $1 USD = {} INR\".format(XCHANGE_RATE))\n",
    "amount = 220 #USD\n",
    "inr = USD2INR(amount)\n",
    "print(\"${} = {}\".format(amount, inr))\n",
    "\n",
    "print()\n",
    "change_rate()\n",
    "print(\"After changing the exchange rate $1 USD = {} INR\".format(XCHANGE_RATE))\n",
    "inr = USD2INR(amount)\n",
    "print(\"${} = {}\".format(amount, inr))\n",
    "\n",
    "\n"
   ]
  },
  {
   "cell_type": "markdown",
   "metadata": {},
   "source": [
    "### Flip"
   ]
  },
  {
   "cell_type": "code",
   "execution_count": null,
   "metadata": {
    "collapsed": true
   },
   "outputs": [],
   "source": [
    "# [ ] In the following program, the function `flip()` is designed to reverse the order of the elements in NUMBERS\n",
    "# Fix the `UnboundLocalError` exception without changing the expression (NUMBERS = NUMBERS[-1:0:-1])\n",
    "\n",
    "NUMBERS = [1, 2, 3, 4, 5, 6]\n",
    "\n",
    "def flip():\n",
    "    NUMBERS = NUMBERS[-1:0:-1]\n",
    "\n",
    "print(\"Before flipping, NUMBERS =\", NUMBERS)\n",
    "flip()\n",
    "print(\"After flipping, NUMBERS =\", NUMBERS)\n",
    "\n"
   ]
  }
 ],
 "metadata": {
  "kernelspec": {
   "display_name": "Python 3",
   "language": "python",
   "name": "python3"
  },
  "language_info": {
   "codemirror_mode": {
    "name": "ipython",
    "version": 3
   },
   "file_extension": ".py",
   "mimetype": "text/x-python",
   "name": "python",
   "nbconvert_exporter": "python",
   "pygments_lexer": "ipython3",
   "version": "3.6.3"
  }
 },
 "nbformat": 4,
 "nbformat_minor": 2
}
