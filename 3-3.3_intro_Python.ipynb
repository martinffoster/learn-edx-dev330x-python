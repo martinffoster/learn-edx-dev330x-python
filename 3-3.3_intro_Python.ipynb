{
 "cells": [
  {
   "cell_type": "markdown",
   "metadata": {},
   "source": [
    "# Section 3.3: Tuples\n",
    "* ()\n",
    "* +, in, not in, len, min, max\n",
    "\n",
    "### Students will be able to:\n",
    "* Differentiate between tuples and lists\n",
    "* Create tuples\n",
    "* Access tuple elements\n",
    "* Convert lists into tuples and tuples into lists\n",
    "* Delete, slice, and unpack tuples\n",
    "* Use basic tuple operations and functions"
   ]
  },
  {
   "cell_type": "markdown",
   "metadata": {},
   "source": [
    "---\n",
    "<font size=\"6\" color=\"#00A0B2\"  face=\"verdana\"> <B>Concepts</B></font>  \n",
    "\n",
    "## Tuple Basics\n",
    "\n",
    "[![view video](https://iajupyterprodblobs.blob.core.windows.net/imagecontainer/common/play_video.png)](https://www.youtube.com/watch?v=egYurO3212M)\n",
    "\n",
    "A list is a very useful data structure that can manipulate a sequence of elements. A tuple is another data structure type that can also store and manipulate a sequence of elements. Like lists, the elements of a tuple can be of any type (i.e. `int`, `float`, `string`, `list`, another `tuple`). However, unlike lists, a tuple is an immutable data structure, which means that after you define a tuple, you are not allowed to change it. In other words, you cannot reorder the elements of a tuple, cannot append additional elements, and cannot delete elements.\n",
    "\n",
    "You might be wondering, if tuples are like restricted lists, when and why should I use them? The importance of tuples is most obvious when passing to and returning from a function. They are also important to communicate to people reading your code that you do not intend for the content of the tuple to be mutated (changed).\n",
    "\n",
    "#### Creating a tuple\n",
    "You can create a tuple by enclosing its elements within parentheses, for example the following is a tuple containing 3 elements `(13, 5, 92)`. Note that a list was defined using square brackets `[13, 5, 92]`.\n",
    "\n",
    "```python\n",
    ">>> T = (13, 5, 92)\n",
    ">>> type(T)\n",
    "<class 'tuple'>\n",
    "\n",
    ">>> L = [13, 5, 92]\n",
    ">>> type(L)\n",
    "<class 'list'>\n",
    "```\n",
    "#### Creating an empty tuple\n",
    "You can create an empty tuple using empty parentheses. \n",
    "\n",
    "```python\n",
    ">>> T = ()\n",
    ">>> type(T)\n",
    "<class 'tuple'>\n",
    "```\n",
    "\n",
    "#### Creating a tuple with a single element\n",
    "When creating a tuple with a single element, you have to add a comma `,` after the single element. Otherwise, Python will assume you are using the parentheses as part of an expression rather than to create a tuple.\n",
    "\n",
    "```python\n",
    ">>> T1 = (5)\n",
    ">>> type(T1)\n",
    "<class 'int'>\n",
    "\n",
    ">>> T2 = (5,) # note the comma after 5\n",
    ">>> type(T2)\n",
    "<class 'tuple'>\n",
    "```\n",
    "\n",
    "#### Accessing elements of a tuple\n",
    "You can access the individual elements of a tuple in the same way you access the elements of a list or a string, by using the index of the element of interest.\n",
    "\n",
    "```python\n",
    ">>> T = (13, 5, 92)\n",
    ">>> T[0]\n",
    "13\n",
    ">>> T[-1]\n",
    "92\n",
    "```\n",
    "\n",
    "#### Converting a list into a tuple \n",
    "You can convert a list into a tuple by passing it into the `tuple` function.\n",
    "\n",
    "```python\n",
    ">>> L = [4, 5.3, 'name'] #list\n",
    ">>> T = tuple(L) #tuple\n",
    ">>> print(T)\n",
    "(4, 5.3, 'name')\n",
    ">>> type(T)\n",
    "<class 'tuple'>\n",
    "```\n",
    "\n",
    "#### Converting a tuple into a list\n",
    "You can convert a tuple into a list by passing it into the `list` function.\n",
    "\n",
    "```python\n",
    ">>> T = ('name', [2, 4], 5.3, 19) #tuple\n",
    ">>> L = list(T) #list\n",
    ">>> print(L)\n",
    "['name', [2, 4], 5.3, 19]\n",
    ">>> type(L)\n",
    "<class 'list'>\n",
    "```\n",
    "\n",
    "#### Changing a tuple element\n",
    "Tuples are immutable objects and cannot be changed. If you try to change the content of a tuple, a `TypeError` exception will be raised.\n",
    "\n",
    "```python\n",
    ">>> T = (13, 5, 92)\n",
    ">>> T[0] = 5\n",
    "Traceback (most recent call last):\n",
    "  File \"<stdin>\", line 1, in <module>\n",
    "TypeError: 'tuple' object does not support item assignment\n",
    "\n",
    "```\n",
    "\n",
    "A list can be one of the elements of a tuple; the tuple doesn't store the whole list, but stores a reference to the storage location of the list in memory. Therefore, if the memory location storing the list is changed, the tuple references the changed list.\n",
    "\n",
    "In the following example, the second element in the tuple `T` is a list `[2, 4]`. `T[1]` stores the location of the list rather than the list itself; therefore, if you change the content of the list, (i.e. change `2` to a `5`), the tuple `T` now references the new list `[5, 4]`. Technically speaking, the tuple did not change; it still references the same memory location. However, the memory location changed. This concept will be more relevant when you use tuples with functions or copy tuples.\n",
    "\n",
    "```python\n",
    ">>> T = ('name', [2, 4], 5.3, 19)\n",
    ">>> T[1][0] = 5\n",
    ">>> T\n",
    "('name', [5, 4], 5.3, 19)\n",
    "```\n",
    "\n",
    "#### Deleting a tuple\n",
    "Like any other variable, a tuple can be deleted by using the `del()` function.\n",
    "\n",
    "```python\n",
    ">>> del(T)\n",
    ">>> type(T)\n",
    "Traceback (most recent call last):\n",
    "  File \"<stdin>\", line 1, in <module>\n",
    "NameError: name 'T' is not defined\n",
    "```"
   ]
  },
  {
   "cell_type": "markdown",
   "metadata": {},
   "source": [
    "---\n",
    "<font size=\"6\" color=\"#00A0B2\"  face=\"verdana\"> <B>Examples</B></font>\n",
    "\n"
   ]
  },
  {
   "cell_type": "markdown",
   "metadata": {},
   "source": [
    "## Creating Tuples"
   ]
  },
  {
   "cell_type": "markdown",
   "metadata": {},
   "source": [
    "### Creating homogeneous tuples\n",
    "Homogeneous tuples contain elements of the same type; in the following example, you will see how to create a tuple of `int` values and another tuple of `string` values."
   ]
  },
  {
   "cell_type": "code",
   "execution_count": null,
   "metadata": {
    "collapsed": true
   },
   "outputs": [],
   "source": [
    "# Create a homogeneous int tuple\n",
    "T_int = (10, -4, 59, 58, 23, 50)\n",
    "type(T_int)\n"
   ]
  },
  {
   "cell_type": "code",
   "execution_count": null,
   "metadata": {
    "collapsed": true
   },
   "outputs": [],
   "source": [
    "# Create a homogeneous string tuple\n",
    "T_string = (\"word\", \"letter\", \"vowel\", \"spell\", \"book\", \"write\", \"read\")\n",
    "type(T_string)"
   ]
  },
  {
   "cell_type": "markdown",
   "metadata": {},
   "source": [
    "### Creating heterogeneous tuples\n",
    "Tuples can contain elements of different types. In the following example, you will see how to create tuples containing different types."
   ]
  },
  {
   "cell_type": "code",
   "execution_count": null,
   "metadata": {
    "collapsed": true
   },
   "outputs": [],
   "source": [
    "# Create heterogeneous tuples\n",
    "T = (\"Tobias\", 23, 25.3, [])\n",
    "type(T)"
   ]
  },
  {
   "cell_type": "code",
   "execution_count": null,
   "metadata": {
    "collapsed": true
   },
   "outputs": [],
   "source": [
    "# Create heterogeneous tuples\n",
    "\n",
    "# A datetime object can be a tuple element\n",
    "from datetime import datetime\n",
    "now = datetime.today() \n",
    "\n",
    "T = ((1.5,2.6), \"home\", now)\n",
    "type(T)"
   ]
  },
  {
   "cell_type": "markdown",
   "metadata": {},
   "source": [
    "### Creating single-element tuples"
   ]
  },
  {
   "cell_type": "code",
   "execution_count": null,
   "metadata": {
    "collapsed": true
   },
   "outputs": [],
   "source": [
    "T = (\"switch\") # This is not a tuple\n",
    "type(T)\n"
   ]
  },
  {
   "cell_type": "code",
   "execution_count": null,
   "metadata": {
    "collapsed": true
   },
   "outputs": [],
   "source": [
    "T = (\"switch\",) # Note the comma after the string makes T a tuple\n",
    "type(T)"
   ]
  },
  {
   "cell_type": "markdown",
   "metadata": {},
   "source": [
    "### Converting lists to/from tuples"
   ]
  },
  {
   "cell_type": "code",
   "execution_count": null,
   "metadata": {
    "collapsed": true
   },
   "outputs": [],
   "source": [
    "# List of employee names\n",
    "names_list = [\"Suresh\", \"Colette\", \"Skye\", \"Hiroto\", \"Tobias\", \"Tamara\", \"Jin\", \"Joana\", \"Alton\"]\n",
    "\n",
    "# Sort the names alphabetically\n",
    "sorted_list = sorted(names_list)\n",
    "\n",
    "# Convert list into tuple\n",
    "names_tuple = tuple(sorted_list)\n",
    "\n",
    "# List converted into a tuple\n",
    "print(type(names_tuple))\n",
    "\n",
    "# Print the first and last name in the tuple\n",
    "print(\"First name is: {:s}\".format(names_tuple[0]))\n",
    "print(\"Last name is: {:s}\".format(names_tuple[-1]))"
   ]
  },
  {
   "cell_type": "markdown",
   "metadata": {},
   "source": [
    "## Creating Tuples from User Input\n",
    "In this example, the user is asked to enter 3 integers, the program then saves the squares of these integers into a tuple and print its content."
   ]
  },
  {
   "cell_type": "code",
   "execution_count": null,
   "metadata": {
    "collapsed": true
   },
   "outputs": [],
   "source": [
    "# Collect 3 int numbers from a user\n",
    "L = []\n",
    "for i in range(3):\n",
    "    tmp = int(input(\"Enter an int {:d}/3: \".format(i)))\n",
    "    L.append(tmp ** 2)\n",
    "\n",
    "# Convert the list into a tuple\n",
    "T = tuple(L)\n",
    "\n",
    "# Print the content of the tuple\n",
    "print(\"Tuple of squares is:\", T)\n",
    "\n",
    "# Print each of the tuple elements on a new line\n",
    "for i in range(3):\n",
    "    print(\"T[{0:d}] = {1:d}\".format(i, T[i]))\n"
   ]
  },
  {
   "cell_type": "markdown",
   "metadata": {},
   "source": [
    "## Changing Tuple Elements"
   ]
  },
  {
   "cell_type": "code",
   "execution_count": null,
   "metadata": {
    "collapsed": true
   },
   "outputs": [],
   "source": [
    "T = (\"Tobias\", 23, 25.3, [])\n",
    "\n",
    "# Tuples are immutable and cannot be changed\n",
    "T[0] = \"hello\""
   ]
  },
  {
   "cell_type": "code",
   "execution_count": null,
   "metadata": {
    "collapsed": true
   },
   "outputs": [],
   "source": [
    "T = (\"Tobias\", 23, 25.3, [])\n",
    "\n",
    "# A list inside a tuple can change\n",
    "T[-1].append(44)\n",
    "\n",
    "# The tuple did NOT change, it still refers to the same list; only the list was changed\n",
    "print(T)"
   ]
  },
  {
   "cell_type": "markdown",
   "metadata": {},
   "source": [
    "---\n",
    "<font size=\"6\" color=\"#B24C00\"  face=\"verdana\"> <B>Task 1</B></font>\n",
    "\n",
    "## Tuple Basics"
   ]
  },
  {
   "cell_type": "markdown",
   "metadata": {},
   "source": [
    "### Creating tuples"
   ]
  },
  {
   "cell_type": "code",
   "execution_count": null,
   "metadata": {
    "collapsed": true
   },
   "outputs": [],
   "source": [
    "# [ ] Create a tuple that consists of the following variables\n",
    "\n",
    "x = 5\n",
    "l = [4.4, 5.3]\n",
    "s = \"something\"\n",
    "t = (9, 0)\n",
    "\n"
   ]
  },
  {
   "cell_type": "markdown",
   "metadata": {},
   "source": [
    "### Modifying tuples"
   ]
  },
  {
   "cell_type": "code",
   "execution_count": null,
   "metadata": {
    "collapsed": true
   },
   "outputs": [],
   "source": [
    "# [ ] Change the third element of T to [59, 20.4]\n",
    "\n",
    "T = ([43.6, 34], [49, 59], [50, 34.6], [39, 49])\n",
    "\n"
   ]
  },
  {
   "cell_type": "markdown",
   "metadata": {},
   "source": [
    "### Merging tuples"
   ]
  },
  {
   "cell_type": "code",
   "execution_count": null,
   "metadata": {
    "collapsed": true
   },
   "outputs": [],
   "source": [
    "# [ ] Write a program to merge the content of T1 and T2 into one tuple T\n",
    "# Correct output should be T = (5, 4, 3, 9, 2, 12)\n",
    "# T = ((5, 4, 3), (9, 2, 12)) is an incorrect output\n",
    "\n",
    "# Hint: Use list to/from tuple conversion\n",
    "\n",
    "T1 = (5, 4, 3)\n",
    "T2 = (9, 2, 12)\n",
    "\n",
    "\n"
   ]
  },
  {
   "cell_type": "markdown",
   "metadata": {},
   "source": [
    "---\n",
    "<font size=\"6\" color=\"#00A0B2\"  face=\"verdana\"> <B>Concepts</B></font>  \n",
    "\n",
    "\n",
    "## Slicing and Unpacking Tuples\n",
    "\n",
    "[![view video](https://iajupyterprodblobs.blob.core.windows.net/imagecontainer/common/play_video.png)](https://www.youtube.com/watch?v=OvueVksOLew)\n",
    "\n",
    "#### Slicing tuples\n",
    "Slicing a tuple (or a list) lets you access a subset of a tuple. You can then assign this subset as a new tuple, pass it to a function, or do anything you would do with the full tuple.\n",
    "\n",
    "You can slice a tuple using the following syntax `T[initial_index:final_index]`:\n",
    "* The `initial_index` is optional; if left empty, slicing starts from 0\n",
    "* The `final_index` is optional; if left empty, slicing goes to the last element of the tuple\n",
    "* The `T[initial_index]` element is included in the sliced tuple; the `T[final_index]` is excluded\n",
    "* You can use negative numbers for both indices, where the final tuple element has index -1, the preceding has index -2, and so on\n",
    "* Whether you use negative or positive indices you should always keep `initial_index < final_index`\n",
    "\n",
    "```python\n",
    ">>> T = ('name', [2, 4], 5.3, 19)\n",
    ">>> T[1:2] # from index 1 (included) to index 2 (excluded)\n",
    "([2, 4],)\n",
    ">>> T[1:] # from index 1 (included) to the last element\n",
    "([2, 4], 5.3, 19)\n",
    ">>> T[:2] # from the start of a tuple to index 2 (excluded)\n",
    "('name', [2, 4])\n",
    ">>> T[-3:-1] # from  index -3 (included) to index -1 (excluded)\n",
    "([2, 4], 5.3)\n",
    ">>> T[-3:] # from index -3 to the last element\n",
    "([2, 4], 5.3, 19)\n",
    ">>> T[:] # all elements\n",
    "('name', [2, 4], 5.3, 19)\n",
    "\n",
    "```\n",
    "\n",
    "#### Unpacking tuples\n",
    "A tuple can be unpacked and its values can be assigned to multiple variables at the same time. This is especially useful when a function returns a single tuple containing all the returned variables.\n",
    "\n",
    "```python\n",
    ">>> (a, b) = (4, 5)\n",
    ">>> print(a)\n",
    "4\n",
    ">>> print(b)\n",
    "5\n",
    ">>> \n",
    "```\n",
    "The parentheses can be left off when unpacking tuples.\n",
    "\n",
    "```python\n",
    ">>> x, y, z = 1, 2, 3\n",
    ">>> x\n",
    "1\n",
    ">>> y\n",
    "2\n",
    ">>> z\n",
    "3\n",
    "```"
   ]
  },
  {
   "cell_type": "markdown",
   "metadata": {},
   "source": [
    "---\n",
    "<font size=\"6\" color=\"#00A0B2\"  face=\"verdana\"> <B>Examples</B></font>"
   ]
  },
  {
   "cell_type": "markdown",
   "metadata": {},
   "source": [
    "### Slicing tuples"
   ]
  },
  {
   "cell_type": "code",
   "execution_count": null,
   "metadata": {
    "collapsed": true
   },
   "outputs": [],
   "source": [
    "T = (12, 24, 'name', 'city')\n",
    "\n",
    "# Slice the tuple into numerical and textual tuples\n",
    "numerical_tuple = T[0:2]\n",
    "print(numerical_tuple)\n",
    "\n",
    "textual_tuple = T[-2:]\n",
    "print(textual_tuple)"
   ]
  },
  {
   "cell_type": "markdown",
   "metadata": {},
   "source": [
    "### Unpacking tuples"
   ]
  },
  {
   "cell_type": "code",
   "execution_count": null,
   "metadata": {
    "collapsed": true
   },
   "outputs": [],
   "source": [
    "# Swap variables using tuple unpacking\n",
    "\n",
    "e1 = 5\n",
    "e2 = 109\n",
    "print(\"\\nBefore swapping:\")\n",
    "print(\"e1 = {:3d}\\t e2 = {:3d}\".format(e1, e2))\n",
    "\n",
    "e1, e2 = e2, e1\n",
    "\n",
    "print(\"\\nAfter swapping:\")\n",
    "print(\"e1 = {:3d}\\t e2 = {:3d}\".format(e1, e2))"
   ]
  },
  {
   "cell_type": "markdown",
   "metadata": {},
   "source": [
    "### Returning function values\n",
    "Tuples can be used in functions to return multiple values. In this example, you will see the function `split_name` splits a full name then returns the first and last names as a packed tuple. You can then unpack the returned tuple and use its content as separate variables."
   ]
  },
  {
   "cell_type": "code",
   "execution_count": null,
   "metadata": {
    "collapsed": true
   },
   "outputs": [],
   "source": [
    "# Split a full name into the first and last names\n",
    "def split_name(name):\n",
    "    names = name.split(\" \")\n",
    "    first_name = names[0]\n",
    "    last_name = names[-1]\n",
    "    # pack the variables into a tuple, then return the tuple\n",
    "    return (first_name, last_name)\n",
    "\n",
    "# Ask user for input\n",
    "name = input(\"Enter your full name: \")\n",
    "\n",
    "# Unpack the returned tuples into first, last variables\n",
    "# looks like the function returns 2 variables\n",
    "first, last = split_name(name)\n",
    "\n",
    "# Unpacked variables can be used separately\n",
    "print(\"First name: {:s}\".format(first))\n",
    "print(\"Last name: {:s}\".format(last))"
   ]
  },
  {
   "cell_type": "markdown",
   "metadata": {},
   "source": [
    "---\n",
    "<font size=\"6\" color=\"#B24C00\"  face=\"verdana\"> <B>Task 2</B></font>\n",
    "\n",
    "## Slicing and Unpacking Tuples"
   ]
  },
  {
   "cell_type": "markdown",
   "metadata": {},
   "source": [
    "### Slicing tuples"
   ]
  },
  {
   "cell_type": "code",
   "execution_count": null,
   "metadata": {
    "collapsed": true
   },
   "outputs": [],
   "source": [
    "# [ ] Write a program to split the content of T into T1 and T2\n",
    "# T1 = (5, 4, 3)\n",
    "# T2 = (9, 2, 12)\n",
    "\n",
    "T = (5, 4, 3, 9, 2, 12)\n",
    "\n"
   ]
  },
  {
   "cell_type": "markdown",
   "metadata": {},
   "source": [
    "### Unpacking tuples"
   ]
  },
  {
   "cell_type": "code",
   "execution_count": null,
   "metadata": {
    "collapsed": true
   },
   "outputs": [],
   "source": [
    "# [ ] Write an expression to unpack `T` into:\n",
    "# 1) x = 5\n",
    "# 2) l = [3, 5.3]\n",
    "# 3) s = 'something\n",
    "# 4) t = (9, 0)\n",
    "\n",
    "T = (5, [3, 5.3], 'something', (9, 0))\n",
    "\n",
    "#TODO: Your code goes here\n",
    "\n",
    "print(\"After unpacking the tuple:\", T)\n",
    "print(\"x =\", x)\n",
    "print(\"l =\", l)\n",
    "print(\"s =\", s)\n",
    "print(\"t =\", t)\n",
    "\n"
   ]
  },
  {
   "cell_type": "code",
   "execution_count": null,
   "metadata": {
    "collapsed": true
   },
   "outputs": [],
   "source": [
    "# [ ] Complete the function `current_date` to return today's month, day, and year\n",
    "# Hint: Use an appropriate function from the datetime module\n",
    "\n",
    "def current_date():\n",
    "    pass\n",
    "    #TODO return month, day, year\n",
    "\n",
    "m, d, y = current_date()\n",
    "print(\"Today's date is: {:2d}/{:2d}/{:4d}\".format(m, d, y))\n",
    "\n"
   ]
  },
  {
   "cell_type": "markdown",
   "metadata": {},
   "source": [
    "---\n",
    "<font size=\"6\" color=\"#00A0B2\"  face=\"verdana\"> <B>Concepts</B></font>  \n",
    "\n",
    "## Tuple Operations and Functions\n",
    "\n",
    "[![view video](https://iajupyterprodblobs.blob.core.windows.net/imagecontainer/common/play_video.png)](https://www.youtube.com/watch?v=XdWJoBCkfdw)\n",
    "\n",
    "Python support several tuple operations, such as containment, identity, and concatenation. In the following examples, you will explore a few of the tuple operations."
   ]
  },
  {
   "cell_type": "markdown",
   "metadata": {},
   "source": [
    "---\n",
    "<font size=\"6\" color=\"#00A0B2\"  face=\"verdana\"> <B>Examples</B></font>"
   ]
  },
  {
   "cell_type": "markdown",
   "metadata": {},
   "source": [
    "### Containment (`in`, `not in`)\n",
    "\n",
    "You can test whether an object is contained in a tuple."
   ]
  },
  {
   "cell_type": "code",
   "execution_count": null,
   "metadata": {
    "collapsed": true
   },
   "outputs": [],
   "source": [
    "T = (4, [5, 6], 'name', 3.5, True)\n",
    "\n",
    "print(\"4 contained in T?\", 4 in T)\n",
    "print(\"5 not contained in T?\", 5 not in T )\n",
    "print(\"False contained in T?\", False in T)"
   ]
  },
  {
   "cell_type": "markdown",
   "metadata": {},
   "source": [
    "### Identity (`is`) and equality (`==`)\n",
    "You can test whether two tuples contain equal elements by using the identity `==` operator. Similarly, you can test whether tuples are identical by using the `is` operator. Remember, if two tuples (and lists) are identical, changing an element in one will generate the same change in the other."
   ]
  },
  {
   "cell_type": "code",
   "execution_count": null,
   "metadata": {
    "collapsed": true
   },
   "outputs": [],
   "source": [
    "# Equivalent tuples, not identical\n",
    "T1 = (10, [2, 4], 59)\n",
    "T2 = (10, [2, 4], 59)\n",
    "\n",
    "if (T1 == T2):\n",
    "    print(\"Equal tuples\")\n",
    "else:\n",
    "    print(\"Not equal tuples\")\n",
    "\n",
    "if (T1 is T2):\n",
    "    print(\"Identical tuples\")\n",
    "else:\n",
    "    print(\"Not identical tuples\")"
   ]
  },
  {
   "cell_type": "code",
   "execution_count": null,
   "metadata": {
    "collapsed": true
   },
   "outputs": [],
   "source": [
    "# Identical tuples (also equivalent)\n",
    "T1 = (10, [2, 4], 59)\n",
    "T2 = T1\n",
    "\n",
    "if (T1 == T2):\n",
    "    print(\"Equal tuples\")\n",
    "else:\n",
    "    print(\"Not equal tuples\")\n",
    "\n",
    "if (T1 is T2):\n",
    "    print(\"Identical tuples\")\n",
    "else:\n",
    "    print(\"Not identical tuples\")"
   ]
  },
  {
   "cell_type": "code",
   "execution_count": null,
   "metadata": {
    "collapsed": true
   },
   "outputs": [],
   "source": [
    "# Changing one of 2 identical tuples\n",
    "T1 = (10, [2, 4], 59)\n",
    "T2 = T1\n",
    "\n",
    "# A change in T1 is a change in T2\n",
    "T1[1][0] = 20\n",
    "\n",
    "print(\"T1 = \", T1)\n",
    "print(\"T2 = \", T2)"
   ]
  },
  {
   "cell_type": "markdown",
   "metadata": {},
   "source": [
    "### Concatenation (`+`)\n",
    "\n",
    "You can concatenate two tuples and save the result in a new tuple."
   ]
  },
  {
   "cell_type": "code",
   "execution_count": null,
   "metadata": {
    "collapsed": true
   },
   "outputs": [],
   "source": [
    "T1 = (\"First\", \"Last\")\n",
    "T2 = (\"Middle\",) # single element tuple\n",
    "\n",
    "# Concatenate two tuples\n",
    "T = T1 + T2\n",
    "print(T)"
   ]
  },
  {
   "cell_type": "markdown",
   "metadata": {},
   "source": [
    "You can also concatenate sliced tuples"
   ]
  },
  {
   "cell_type": "code",
   "execution_count": null,
   "metadata": {
    "collapsed": true
   },
   "outputs": [],
   "source": [
    "T1 = (10, [2, 4], 59)\n",
    "T2 = (59, [2, 4], 'name', 3.5, True)\n",
    "\n",
    "# Concatenate sliced tuples\n",
    "T = T1[1:] + T2[0:2]\n",
    "print(T)"
   ]
  },
  {
   "cell_type": "markdown",
   "metadata": {},
   "source": [
    "### Length of a tuple (`len`)\n",
    "The length of a tuple is the number of elements in it. If a list (or another tuple) is an element of the tuple, it is counted as 1 regardless of how many subelements it actually contains. \n",
    "\n",
    "Knowing the length of a tuple might be helpful when iterating over the elements of the tuple."
   ]
  },
  {
   "cell_type": "code",
   "execution_count": null,
   "metadata": {
    "collapsed": true
   },
   "outputs": [],
   "source": [
    "# length of tuple\n",
    "T1 = (10, [2, 4], 59)\n",
    "print(len(T1))"
   ]
  },
  {
   "cell_type": "code",
   "execution_count": null,
   "metadata": {
    "collapsed": true
   },
   "outputs": [],
   "source": [
    "# Iterate over elements of a tuple\n",
    "T1 = (10, [2,4], 59)\n",
    "\n",
    "for i in range(len(T1)):\n",
    "    print(\"T1[{:d}] = {}\".format(i, T1[i]))"
   ]
  },
  {
   "cell_type": "markdown",
   "metadata": {},
   "source": [
    "---\n",
    "<font size=\"6\" color=\"#B24C00\"  face=\"verdana\"> <B>Task 3</B></font>\n",
    "\n",
    "## Tuple Operations and Functions"
   ]
  },
  {
   "cell_type": "code",
   "execution_count": null,
   "metadata": {
    "collapsed": true
   },
   "outputs": [],
   "source": [
    "# [ ] Write a program to merge the content of T1 and T2 into one tuple T\n",
    "# Correct output should be T = (5, 4, 3, 9, 2, 12), \n",
    "# T = ((5, 4, 3), (9, 2, 12)) is an incorrect output\n",
    "\n",
    "# You should NOT use lists in your solution\n",
    "\n",
    "T1 = (5, 4, 3)\n",
    "T2 = (9, 2, 12)\n",
    "\n"
   ]
  },
  {
   "cell_type": "code",
   "execution_count": null,
   "metadata": {
    "collapsed": true
   },
   "outputs": [],
   "source": [
    "# [ ] Write a program to prompt the user for a number, then test if the number is contained in T\n",
    "\n",
    "T = (23, 45, 93, 59, 35, 58, 19, 3)\n",
    "\n"
   ]
  },
  {
   "cell_type": "code",
   "execution_count": null,
   "metadata": {
    "collapsed": true
   },
   "outputs": [],
   "source": [
    "# Write a function to return the largest element in a tuple T\n",
    "\n",
    "T = (23, 45, 93, 59, 35, 58, 19, 3)\n",
    "\n"
   ]
  },
  {
   "cell_type": "code",
   "execution_count": null,
   "metadata": {
    "collapsed": true
   },
   "outputs": [],
   "source": [
    "# [ ] Write a program to compute the average of the elements in T\n",
    "\n",
    "T = (23, 45, 93, 59, 35, 58, 19, 3)\n",
    "\n"
   ]
  }
 ],
 "metadata": {
  "kernelspec": {
   "display_name": "Python 3",
   "language": "python",
   "name": "python3"
  },
  "language_info": {
   "codemirror_mode": {
    "name": "ipython",
    "version": 3
   },
   "file_extension": ".py",
   "mimetype": "text/x-python",
   "name": "python",
   "nbconvert_exporter": "python",
   "pygments_lexer": "ipython3",
   "version": "3.6.3"
  }
 },
 "nbformat": 4,
 "nbformat_minor": 2
}
