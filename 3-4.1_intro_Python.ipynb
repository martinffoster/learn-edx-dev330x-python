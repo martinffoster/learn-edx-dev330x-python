{
 "cells": [
  {
   "cell_type": "markdown",
   "metadata": {},
   "source": [
    "# Section 4.1: Script Environment & Command-Line Arguments\n",
    "* \\_\\_name\\_\\_ == \"\\_\\_main\\_\\_\"\n",
    "* sys.argv, import argparse, argparse.ArgumentParser, argparse.parse_args\n",
    "* argparse.add_argument: action, nargs, default, type, choices, metavar, help\n",
    "\n",
    "### Students will be able to:\n",
    "* Determine whether Python code is running as a script or being imported as a module\n",
    "* Recognize the basic structure of a UNIX command line\n",
    "* Parse command-line arguments:\n",
    "    * Use the add_argument() method to parse command-line arguments\n",
    "    * Add positional arguments\n",
    "    * Add optional arguments\n",
    "    * Utilize the parameters of add_argument() to control how it works\n",
    "* Employ parsed command-line arguments in practical applications"
   ]
  },
  {
   "cell_type": "markdown",
   "metadata": {},
   "source": [
    "---\n",
    "<font size=\"6\" color=\"#00A0B2\"  face=\"verdana\"> <B>Concepts</B></font>  \n",
    "\n",
    "## Using the Terminal in Notebooks.Azure.com     \n",
    "[![view video](https://iajupyterprodblobs.blob.core.windows.net/imagecontainer/common/play_video.png)](https://www.youtube.com/watch?v=FVgdjX3HHPk)\n",
    "- Launch the Terminal from the Library page   \n",
    "- Identify the Shell **`$ echo $0`**  \n",
    "- Print the Working Directory **`$ pwd`**  \n",
    "- List the Directory **`$ ls`**  or **`$ dir`** \n",
    "- Clear the Terminal Display **`$ clear`**\n",
    "- Change the Directory **`$ cd [directory path]`**  or **`>cd ..`**    \n",
    "- Run a Python file **`$ python3 [file_path]`** \n",
    "- Run Python in Terminal **`$ python3 `** and exit Python **`$>>>exit()`**  "
   ]
  },
  {
   "cell_type": "markdown",
   "metadata": {},
   "source": [
    "---\n",
    "<font size=\"6\" color=\"#00A0B2\"  face=\"verdana\"> <B>Concepts</B></font>  \n",
    "\n",
    "\n",
    "## Script Environment\n",
    "\n",
    "\n",
    "[![view video](https://iajupyterprodblobs.blob.core.windows.net/imagecontainer/common/play_video.png)](https://www.youtube.com/watch?v=AQWxcSnov9k)\n",
    "\n",
    "A Python script can be executed directly or imported as a module in another script. When running a script, a Python interpreter goes through a special setup procedure that defines some environment variables. One of those variables is the `__name__` variable, which can distinguish between the two cases. When the script is executed directly, `__name__` contains the string `\"__main__\"`; otherwise, it contains the name of the module. This distinction allows you to run parts of the code when the script is run directly, and run other parts when the script is imported as a module.\n",
    "\n",
    "### Running a script directly\n",
    "\n",
    "If a script (`main_script.py`) contains the following code: \n",
    "```python\n",
    "print(__name__)\n",
    "```\n",
    "\n",
    "Running the script from a terminal window, will give you:\n",
    "\n",
    "```bash\n",
    "$ python main_script.py \n",
    "__main__\n",
    "```\n",
    "\n",
    "### Importing the script as a module\n",
    "\n",
    "If the script (`main_script.py`) containing:\n",
    "\n",
    "```python\n",
    "print(__name__)\n",
    "```\n",
    "\n",
    "Is imported into another script (`secondary_script.py`) that contains the following code:\n",
    "```python\n",
    "import main_script\n",
    "```\n",
    "\n",
    "Running (`secondary_script.py`) will give you the name of the imported module (which is the name of the `main_script.py` file in this case)\n",
    "```bash\n",
    "$ python secondary_script.py \n",
    "main_script\n",
    "```\n",
    "\n",
    "### `main()` function\n",
    "Generally, you test the value of `__name__` and execute a (`main()`) function if you are running the script directly. Otherwise, you do not run any function.\n",
    "\n",
    "```python\n",
    "if __name__ == \"__main__\":\n",
    "    main()\n",
    "```"
   ]
  },
  {
   "cell_type": "markdown",
   "metadata": {},
   "source": [
    "---\n",
    "<font size=\"6\" color=\"#00A0B2\"  face=\"verdana\"> <B>Examples</B></font>\n",
    "\n",
    "## Script Environment\n",
    "\n",
    "In the following example, `main_script.py` is run directly then imported as a module into `secondary_script.py`. You will see the content of `__name__` will change how the `main_script.py` code is executed."
   ]
  },
  {
   "cell_type": "markdown",
   "metadata": {},
   "source": [
    "### Changing the working directory to `command_line`\n",
    "\n",
    "Necessary so all generated files are saved in this directory, the cell will generate an error message if you are already in the `command_line` directory."
   ]
  },
  {
   "cell_type": "code",
   "execution_count": null,
   "metadata": {
    "collapsed": true,
    "scrolled": true
   },
   "outputs": [],
   "source": [
    "%cd command_line"
   ]
  },
  {
   "cell_type": "markdown",
   "metadata": {},
   "source": [
    "### Saving the primary script as `main_script.py`\n",
    "\n",
    "The first line saves the Python code in the cell as `main_script.py` in the current working directory."
   ]
  },
  {
   "cell_type": "code",
   "execution_count": null,
   "metadata": {
    "collapsed": true
   },
   "outputs": [],
   "source": [
    "%%writefile main_script.py\n",
    "\n",
    "# Start of Python code\n",
    "\n",
    "# Will be called from another script\n",
    "def func():\n",
    "    print(\"Running func\")\n",
    "\n",
    "# Execute when running the script directly\n",
    "def main():\n",
    "    print(\"Running the main function\")\n",
    "\n",
    "if __name__ == \"__main__\":\n",
    "    main()\n",
    "    "
   ]
  },
  {
   "cell_type": "markdown",
   "metadata": {},
   "source": [
    "### Running the primary script directly\n",
    "\n",
    "The first line is necessary to run the rest of the lines as command lines (more on that later). For now, `main_script.py` is being run directly."
   ]
  },
  {
   "cell_type": "code",
   "execution_count": null,
   "metadata": {
    "collapsed": true
   },
   "outputs": [],
   "source": [
    "%%bash\n",
    "\n",
    "python3 main_script.py"
   ]
  },
  {
   "cell_type": "markdown",
   "metadata": {},
   "source": [
    "### Saving the secondary script as `secondary_script.py`\n",
    "\n",
    "The first line saves the Python code in the cell as `secondary_script.py` in the current working directory.\n",
    "\n",
    "The secondary script imports the primary script as a module and calls its `func()` function."
   ]
  },
  {
   "cell_type": "code",
   "execution_count": null,
   "metadata": {
    "collapsed": true
   },
   "outputs": [],
   "source": [
    "%%writefile secondary_script.py\n",
    "\n",
    "# Start of Python code\n",
    "import main_script\n",
    "\n",
    "# call func() from the main script\n",
    "main_script.func()"
   ]
  },
  {
   "cell_type": "markdown",
   "metadata": {},
   "source": [
    "### Running the secondary script directly\n",
    "\n",
    "The first line is necessary to run the rest of the lines as command lines (more on that later). For now, `secondary_script.py` is being run directly."
   ]
  },
  {
   "cell_type": "code",
   "execution_count": null,
   "metadata": {
    "collapsed": true
   },
   "outputs": [],
   "source": [
    "%%bash\n",
    "\n",
    "python3 secondary_script.py"
   ]
  },
  {
   "cell_type": "markdown",
   "metadata": {},
   "source": [
    "---\n",
    "<font size=\"6\" color=\"#B24C00\"  face=\"verdana\"> <B>Task 1</B></font>\n",
    "\n",
    "## Script Environment"
   ]
  },
  {
   "cell_type": "code",
   "execution_count": null,
   "metadata": {
    "collapsed": true
   },
   "outputs": [],
   "source": [
    "# [ ] The following program asks the user for a circle radius then display the area and circumference\n",
    "# Modify the program so it only displays the information when executed directly\n",
    "# The program should not display anything if it is imported as a module \n",
    "\n",
    "from math import pi\n",
    "\n",
    "def circle_area(r):\n",
    "    return pi * (r ** 2)\n",
    "\n",
    "def circle_circumference(r):\n",
    "    return 2 * pi * r\n",
    "\n",
    "radius = float(input(\"Enter radius: \"))\n",
    "print(\"Area =\", circle_area(radius))\n",
    "print(\"Circumference =\", circle_circumference(radius))\n",
    "\n"
   ]
  },
  {
   "cell_type": "markdown",
   "metadata": {},
   "source": [
    "---\n",
    "<font size=\"6\" color=\"#00A0B2\"  face=\"verdana\"> <B>Concepts</B></font>  \n",
    "\n",
    "\n",
    "## Command-Line Structure\n",
    "\n",
    "\n",
    "[![view video](https://iajupyterprodblobs.blob.core.windows.net/imagecontainer/common/play_video.png)](https://www.youtube.com/watch?v=e1zACg4xv80)\n",
    "\n",
    "A UNIX command is used to run a program and it has the following syntax: (`command [arguments] [options]`). The arguments and options might be optional depending on the nature and purpose of the program. In the following examples you will go through a very concise UNIX command-line primer that will help you complete the lesson. "
   ]
  },
  {
   "cell_type": "markdown",
   "metadata": {},
   "source": [
    "---\n",
    "<font size=\"6\" color=\"#00A0B2\"  face=\"verdana\"> <B>Examples</B></font>\n"
   ]
  },
  {
   "cell_type": "markdown",
   "metadata": {},
   "source": [
    "## Command-Line Structure\n",
    "\n",
    "### Changing the working directory to `command_line`\n",
    "\n",
    "Necessary so all generated files are saved in this directory, the cell will generate an error message if you are already in the `command_line` directory."
   ]
  },
  {
   "cell_type": "code",
   "execution_count": null,
   "metadata": {
    "collapsed": true
   },
   "outputs": [],
   "source": [
    "%cd command_line"
   ]
  },
  {
   "cell_type": "markdown",
   "metadata": {},
   "source": [
    "### `ls`\n",
    "This command lists the content of a directory. \n",
    "\n",
    "The command `ls` can be run without options or arguments to display the content of the current working directory."
   ]
  },
  {
   "cell_type": "code",
   "execution_count": null,
   "metadata": {
    "collapsed": true
   },
   "outputs": [],
   "source": [
    "%%bash\n",
    "\n",
    "ls"
   ]
  },
  {
   "cell_type": "markdown",
   "metadata": {},
   "source": [
    "### `ls` options\n",
    "One or more options can be used with `ls`; options usually start with `-`.\n",
    "\n",
    "The `-l` option show more detailed description about the content of the current working directory."
   ]
  },
  {
   "cell_type": "code",
   "execution_count": null,
   "metadata": {
    "collapsed": true
   },
   "outputs": [],
   "source": [
    "%%bash\n",
    "\n",
    "ls -l"
   ]
  },
  {
   "cell_type": "markdown",
   "metadata": {},
   "source": [
    "The `-a` option displays hidden files and directories. Note the `.` and `..` directories."
   ]
  },
  {
   "cell_type": "code",
   "execution_count": null,
   "metadata": {
    "collapsed": true
   },
   "outputs": [],
   "source": [
    "%%bash\n",
    "\n",
    "ls -l -a"
   ]
  },
  {
   "cell_type": "markdown",
   "metadata": {},
   "source": [
    "### `ls` arguments\n",
    "`ls` can take arguments; for example, you can pass it a path to a directory to display its content. You can also use the options along with the arguments."
   ]
  },
  {
   "cell_type": "code",
   "execution_count": null,
   "metadata": {
    "collapsed": true
   },
   "outputs": [],
   "source": [
    "%%bash\n",
    "\n",
    "ls -l ../parent_dir"
   ]
  },
  {
   "cell_type": "markdown",
   "metadata": {},
   "source": [
    "---\n",
    "<font size=\"6\" color=\"#00A0B2\"  face=\"verdana\"> <B>Concepts</B></font>  \n",
    "\n",
    "\n",
    "## Parsing Command-Line Arguments\n",
    "\n",
    "\n",
    "[![view video](https://iajupyterprodblobs.blob.core.windows.net/imagecontainer/common/play_video.png)](https://www.youtube.com/watch?v=4SyJTY7NF4c)\n",
    "\n",
    "Like any other program, Python scripts can be executed from a terminal. They can also be executed with command-line arguments and options. These arguments and options can be used within the script to control the flow of the program. The arguments and options are captured by an environment variable `argv`, which can be accessed using the `sys` module.\n",
    "\n",
    "The `argv` variable captures the command-line arguments and options as a list. The first element `argv[0]` is always the command itself, which is the name of the script file. The rest of the list elements are the arguments and options. It is possible to process these arguments and options by writing code around the `argv` list; however, it is a daunting and tedious task. Command-line arguments are used by many applications; therefore, the Python standard library provides an `argparse` module that is much more robust and versatile and will make parsing command-line arguments very easy.\n",
    "\n",
    "You will explore how to use the `argparse` module in the following examples, where you will develop a script `rand.py` that will generate random integers according to the arguments and options passed from the command line."
   ]
  },
  {
   "cell_type": "markdown",
   "metadata": {},
   "source": [
    "---\n",
    "<font size=\"6\" color=\"#00A0B2\"  face=\"verdana\"> <B>Examples</B></font>\n"
   ]
  },
  {
   "cell_type": "markdown",
   "metadata": {},
   "source": [
    "## Parsing Command-Line Arguments\n",
    "\n",
    "### Changing the working directory to `command_line`\n",
    "\n",
    "Necessary so all generated files are saved in this directory, the cell will generate an error message if you are already in the `command_line` directory."
   ]
  },
  {
   "cell_type": "code",
   "execution_count": null,
   "metadata": {
    "collapsed": true,
    "scrolled": true
   },
   "outputs": [],
   "source": [
    "%cd command_line"
   ]
  },
  {
   "cell_type": "markdown",
   "metadata": {},
   "source": [
    "### Using the `argv` environment variable"
   ]
  },
  {
   "cell_type": "code",
   "execution_count": null,
   "metadata": {
    "collapsed": true
   },
   "outputs": [],
   "source": [
    "%%writefile command_line.py\n",
    "\n",
    "import sys\n",
    "\n",
    "# Number of arguments\n",
    "argc = len(sys.argv)\n",
    "print(argc, \"arguments and options were passed\")\n",
    "\n",
    "# List of arguments and options\n",
    "print(\"The arguments and options passed are: \")\n",
    "for i in range(argc):\n",
    "    print(\"argv[{:d}] = {}\".format(i, sys.argv[i])) "
   ]
  },
  {
   "cell_type": "markdown",
   "metadata": {},
   "source": [
    "Running the `command_line.py` script will generate:\n"
   ]
  },
  {
   "cell_type": "code",
   "execution_count": null,
   "metadata": {
    "collapsed": true
   },
   "outputs": [],
   "source": [
    "%%bash\n",
    "\n",
    "python3 command_line.py arg1 arg2 -option1 -option2"
   ]
  },
  {
   "cell_type": "markdown",
   "metadata": {},
   "source": [
    "## Generating random numbers\n",
    "\n",
    "In the following examples, you will build a program `rand.py` to:\n",
    "* Print a random integer between 0 and 10\n",
    "* Print a number of random integers between 0 and 10, with the number of integers passed as a command-line argument\n",
    "* Print a number of random integers in a specific range, with the number of integers and range limits passed as command-line arguments\n",
    "* Print a number of random integers in a specific range with an optional message; the number of integers, range limits, and  message option are all passed as command-line arguments\n",
    "\n",
    "NOTE: In the following examples, the `bash` executions must be run after the code segments that precede them. Changing the order will result in errors and undesired output."
   ]
  },
  {
   "cell_type": "markdown",
   "metadata": {},
   "source": [
    "### `argparse` module\n",
    "\n",
    "_Print a random integer between 0 and 10_ \n",
    "\n",
    "This program imports the `argparse` module to define an object of type `argparse.ArgumentParser`, then parses the command line arguments using `parse_args()`."
   ]
  },
  {
   "cell_type": "code",
   "execution_count": null,
   "metadata": {
    "collapsed": true
   },
   "outputs": [],
   "source": [
    "%%writefile rand.py\n",
    "\n",
    "import argparse\n",
    "from random import randint\n",
    "\n",
    "# Define an argument parser object\n",
    "parser = argparse.ArgumentParser()\n",
    "\n",
    "# Parse command-line arguments\n",
    "args = parser.parse_args()\n",
    "\n",
    "# Program\n",
    "print(randint(0, 10))"
   ]
  },
  {
   "cell_type": "markdown",
   "metadata": {},
   "source": [
    "Running the script from a terminal will generate:\n"
   ]
  },
  {
   "cell_type": "code",
   "execution_count": null,
   "metadata": {
    "collapsed": true
   },
   "outputs": [],
   "source": [
    "%%bash\n",
    "\n",
    "python3 rand.py"
   ]
  },
  {
   "cell_type": "markdown",
   "metadata": {},
   "source": [
    "The program prints a random number between 0 and 10 as expected. However, if we pass an unrecognized argument to the script, the `argparse` module will generate an appropriate usage message and automatically build a help page. "
   ]
  },
  {
   "cell_type": "code",
   "execution_count": null,
   "metadata": {
    "collapsed": true
   },
   "outputs": [],
   "source": [
    "%%bash\n",
    "\n",
    "python3 rand.py -i"
   ]
  },
  {
   "cell_type": "code",
   "execution_count": null,
   "metadata": {
    "collapsed": true
   },
   "outputs": [],
   "source": [
    "%%bash\n",
    "\n",
    "python3 rand.py -h"
   ]
  },
  {
   "cell_type": "markdown",
   "metadata": {},
   "source": [
    "### Adding arguments (`add_argument`)\n",
    "\n",
    "_Print a number of random integers between 0 and 10, with the number of integers passed as a command-line argument_\n",
    "\n",
    "This program adds a `count` argument using the `add_argument` method. The `count` argument holds the number of random integers to print.\n",
    "\n",
    "* If `count` is not provided by the user, the script won't work and the user will be presented with a usage message\n",
    "* The help is updated accordingly\n",
    "* The argument passed is stored in `args.count`\n",
    "* When passing 4 as an argument, the script generates 4 random numbers as expected\n",
    "* The `add_argument` method takes several parameters:\n",
    "    * Name of the argument, which is also the name of the variable storing the count.\n",
    "    * Type of the argument; if not specified, the default is string\n",
    "    * Message to be displayed when a user requests the help message by using the `-h` option\n",
    "* The `add_argument` method takes more optional parameters depending on the way you want to capture the arguments. We will explore a few more in the next examples."
   ]
  },
  {
   "cell_type": "code",
   "execution_count": null,
   "metadata": {
    "collapsed": true
   },
   "outputs": [],
   "source": [
    "%%writefile rand.py\n",
    "\n",
    "import argparse\n",
    "from random import randint\n",
    "\n",
    "# Define an argument parser object\n",
    "parser = argparse.ArgumentParser()\n",
    "\n",
    "# Add positional arguments\n",
    "parser.add_argument('count', type = int, help = 'Count of random integers to be generated')\n",
    "\n",
    "# Parse command-line arguments\n",
    "args = parser.parse_args()\n",
    "\n",
    "# Program\n",
    "for i in range(args.count):\n",
    "    print(randint(0, 10))"
   ]
  },
  {
   "cell_type": "markdown",
   "metadata": {},
   "source": [
    "Running the script from a terminal will generate:\n"
   ]
  },
  {
   "cell_type": "code",
   "execution_count": null,
   "metadata": {
    "collapsed": true
   },
   "outputs": [],
   "source": [
    "%%bash\n",
    "\n",
    "python3 rand.py"
   ]
  },
  {
   "cell_type": "code",
   "execution_count": null,
   "metadata": {
    "collapsed": true
   },
   "outputs": [],
   "source": [
    "%%bash\n",
    "\n",
    "python3 rand.py -h"
   ]
  },
  {
   "cell_type": "code",
   "execution_count": null,
   "metadata": {
    "collapsed": true
   },
   "outputs": [],
   "source": [
    "%%bash\n",
    "\n",
    "python3 rand.py 4"
   ]
  },
  {
   "cell_type": "markdown",
   "metadata": {},
   "source": [
    "### Adding `add_argument` parameters\n",
    "\n",
    "_Print a number of random integers in a specific range, with the number of integers and range limits passed as command-line arguments_\n",
    "\n",
    "The argument (`count`) is a positional argument because it is required and its position depends on the command itself. In the following example, we add an optional argument to let the user decide the range from which the random integers will be chosen.\n",
    "\n",
    "* '-r' is the short notation of the new argument; '--range' is the long notation. You can use them interchangeably.\n",
    "* `metavar` is the name that will be used in the help message.\n",
    "* `nargs` is the number of expected options after `-r` or `--range`; use `'*'` for unlimited. In this example, it will be 2, the lower and upper integer range limits.\n",
    "* `type` is the expected type (string by default).\n",
    "* `default` is the default range when not specifying a range.\n",
    "* You can access the range options using `args.range[0]` and `args.range[1]`. If `nargs` was larger you could use the appropriate index to access the numbers passed."
   ]
  },
  {
   "cell_type": "code",
   "execution_count": null,
   "metadata": {
    "collapsed": true
   },
   "outputs": [],
   "source": [
    "%%writefile rand.py\n",
    "\n",
    "import argparse\n",
    "from random import randint\n",
    "\n",
    "# Define an argument parser object\n",
    "parser = argparse.ArgumentParser()\n",
    "\n",
    "# Add positional arguments\n",
    "parser.add_argument('count', type = int, help = 'Count of random integers to be generated')\n",
    "\n",
    "# Add optional arguments\n",
    "parser.add_argument('-r', '--range', metavar = 'number', nargs = 2, type = int, default = [0, 10], help = 'Integer range [a, b] from which the random numbers will be chosen')\n",
    "\n",
    "# Parse command-line arguments\n",
    "args = parser.parse_args()\n",
    "\n",
    "# Program\n",
    "for i in range(args.count):\n",
    "    print(randint(args.range[0], args.range[1]))"
   ]
  },
  {
   "cell_type": "markdown",
   "metadata": {},
   "source": [
    "Running the script from a terminal will generate:\n"
   ]
  },
  {
   "cell_type": "code",
   "execution_count": null,
   "metadata": {
    "collapsed": true
   },
   "outputs": [],
   "source": [
    "%%bash\n",
    "\n",
    "python3 rand.py 4"
   ]
  },
  {
   "cell_type": "code",
   "execution_count": null,
   "metadata": {
    "collapsed": true
   },
   "outputs": [],
   "source": [
    "%%bash\n",
    "\n",
    "python3 rand.py 4 -r 500 1000"
   ]
  },
  {
   "cell_type": "code",
   "execution_count": null,
   "metadata": {
    "collapsed": true
   },
   "outputs": [],
   "source": [
    "%%bash\n",
    "\n",
    "python3 rand.py 4 --range 500 1000"
   ]
  },
  {
   "cell_type": "code",
   "execution_count": null,
   "metadata": {
    "collapsed": true
   },
   "outputs": [],
   "source": [
    "%%bash\n",
    "\n",
    "python3 rand.py 10 -r 500 1000"
   ]
  },
  {
   "cell_type": "code",
   "execution_count": null,
   "metadata": {
    "collapsed": true
   },
   "outputs": [],
   "source": [
    "%%bash\n",
    "\n",
    "python3 rand.py"
   ]
  },
  {
   "cell_type": "code",
   "execution_count": null,
   "metadata": {
    "collapsed": true
   },
   "outputs": [],
   "source": [
    "%%bash\n",
    "\n",
    "python3 rand.py -h"
   ]
  },
  {
   "cell_type": "markdown",
   "metadata": {},
   "source": [
    "#### More about `metavar`\n",
    "\n",
    "In the previous example, the number of expected arguments after `-r` (or `--range`) was `nargs = 2`. The help message illustrated that by `-r number number` (or `--range number number`). The word `number` was specified using the `metavar` parameter. The `metavar` was repeated 2 times to account for the 2 required arguments. It is also possible to specify different names for each of the required arguments by putting them in a tuple. In this example, the numbers passed to `-r` are renamed to `lower` and `upper` by assigning a tuple to `metavar`."
   ]
  },
  {
   "cell_type": "code",
   "execution_count": null,
   "metadata": {
    "collapsed": true
   },
   "outputs": [],
   "source": [
    "%%writefile rand.py\n",
    "\n",
    "import argparse\n",
    "from random import randint\n",
    "\n",
    "# define an argument parser object\n",
    "parser = argparse.ArgumentParser()\n",
    "\n",
    "# Add positional arguments\n",
    "parser.add_argument('count', type = int, help = 'Count of random integers to be generated')\n",
    "\n",
    "# Add optional arguments\n",
    "parser.add_argument('-r', '--range', metavar = ('lower', 'upper'), nargs = 2, type = int, default = [0, 10], help = 'Integer range [a, b] from which the random numbers will be chosen')\n",
    "\n",
    "# parse command line arguments\n",
    "args = parser.parse_args()\n",
    "\n",
    "# program\n",
    "for i in range(args.count):\n",
    "    print(randint(args.range[0], args.range[1]))\n"
   ]
  },
  {
   "cell_type": "code",
   "execution_count": null,
   "metadata": {
    "collapsed": true
   },
   "outputs": [],
   "source": [
    "%%bash\n",
    "\n",
    "python3 rand.py -h"
   ]
  },
  {
   "cell_type": "markdown",
   "metadata": {},
   "source": [
    "The `metavar` parameter can also be used with positional arguments to use an alternative name in the help message. However, only the displayed name is changed; the parse_args() attribute still has the original name. In this example, you will see how the `count` argument name is changed in the help message using `metavar`."
   ]
  },
  {
   "cell_type": "code",
   "execution_count": null,
   "metadata": {
    "collapsed": true
   },
   "outputs": [],
   "source": [
    "%%writefile rand.py\n",
    "\n",
    "import argparse\n",
    "from random import randint\n",
    "\n",
    "# Define an argument parser object\n",
    "parser = argparse.ArgumentParser()\n",
    "\n",
    "# Add positional arguments\n",
    "parser.add_argument('count', metavar = 'rands', type = int, help = 'Count of random integers to be generated')\n",
    "\n",
    "# Add optional arguments\n",
    "parser.add_argument('-r', '--range', metavar = ('lower', 'upper'), nargs = 2, type = int, default = [0, 10], help = 'Integer range [a, b] from which the random numbers will be chosen')\n",
    "\n",
    "# Parse command-line arguments\n",
    "args = parser.parse_args()\n",
    "\n",
    "# Program\n",
    "for i in range(args.count): # still accessed as args.count (not args.rands)\n",
    "    print(randint(args.range[0], args.range[1]))"
   ]
  },
  {
   "cell_type": "code",
   "execution_count": null,
   "metadata": {
    "collapsed": true
   },
   "outputs": [],
   "source": [
    "%%bash\n",
    "\n",
    "python3 rand.py -h"
   ]
  },
  {
   "cell_type": "markdown",
   "metadata": {},
   "source": [
    "### More `add_argument` parameters\n",
    "\n",
    "_Print a number of random integers in a specific range with an optional message; the number of integers, range limits, and  message option are all passed as command-line arguments_\n",
    "\n",
    "The following program updates the `rand.py` script so that it includes an optional `verbose` flag. When selected, the `verbose` flag will print out general messages about the currently selected options and arguments.\n",
    "\n",
    "* Because the value of `--verbose` should be `True` or `False`, the `action = 'store_true'` was used.\n",
    "* You can access `verbose` as `args.verbose`.\n",
    "* The rest of the argument is almost the same as for `--range` (or `-r`) argument."
   ]
  },
  {
   "cell_type": "code",
   "execution_count": null,
   "metadata": {
    "collapsed": true
   },
   "outputs": [],
   "source": [
    "%%writefile rand.py\n",
    "\n",
    "import argparse\n",
    "from random import randint\n",
    "\n",
    "# Define an argument parser object\n",
    "parser = argparse.ArgumentParser()\n",
    "\n",
    "# Add positional arguments\n",
    "parser.add_argument('count', type = int, help = 'Count of random integers to be generated')\n",
    "\n",
    "# Add optional arguments\n",
    "parser.add_argument('-r', '--range', metavar = ('lower', 'upper'), nargs = 2, type = int, default = [0, 10], help = 'Integer range [a, b] from which the random numbers will be chosen')\n",
    "\n",
    "parser.add_argument('-v', '--verbose', action = 'store_true', help = 'Verbose mode')\n",
    "\n",
    "# Parse command-line arguments\n",
    "args = parser.parse_args()\n",
    "\n",
    "# Program\n",
    "if args.verbose:\n",
    "    print(\"Generating {:d} random integer in the range [{:d}, {:d}]\".format(args.count, args.range[0], args.range[1]))\n",
    "            \n",
    "for i in range(args.count):\n",
    "    print(randint(args.range[0], args.range[1]))"
   ]
  },
  {
   "cell_type": "code",
   "execution_count": null,
   "metadata": {
    "collapsed": true
   },
   "outputs": [],
   "source": [
    "%%bash\n",
    "\n",
    "python3 rand.py 4 --range 500 1000 -v"
   ]
  },
  {
   "cell_type": "code",
   "execution_count": null,
   "metadata": {
    "collapsed": true
   },
   "outputs": [],
   "source": [
    "%%bash\n",
    "\n",
    "python3 rand.py -h"
   ]
  },
  {
   "cell_type": "markdown",
   "metadata": {},
   "source": [
    "#### More about `action`\n",
    "\n",
    "In the previous example, the `action = 'store_true'` was used to make `-v` (or `--verbose`) a Boolean flag that can be set to True or False. Python supports other actions:\n",
    "* `store`: The default action for all arguments; it stores the value passed on the command line to the argument.\n",
    "* `store_true` and `store_false`: Make an argument a Boolean flag and set it to True or False when entered by the user.\n",
    "* `store_const`: Stores a value specified by the keyword `const` in the argument. This is a more general form of `store_true` that allows you to store non-Boolean values in the argument.\n",
    "* `count`: The number of times an argument is used by the user.\n",
    "\n",
    "The following example shows how these actions behave."
   ]
  },
  {
   "cell_type": "code",
   "execution_count": null,
   "metadata": {
    "collapsed": true
   },
   "outputs": [],
   "source": [
    "%%writefile rand.py\n",
    "\n",
    "import argparse\n",
    "from random import randint\n",
    "\n",
    "# Define an argument parser object\n",
    "parser = argparse.ArgumentParser()\n",
    "\n",
    "# Add positional arguments\n",
    "parser.add_argument('count', action = 'store', type = int, help = 'Count of random integers to be generated')\n",
    "\n",
    "# Add optional arguments\n",
    "parser.add_argument('-r', '--range', metavar = ('lower', 'upper'), nargs = 2, type = int, default = [0, 10], help = 'Integer range [a, b] from which the random numbers will be chosen')\n",
    "\n",
    "parser.add_argument('-c', '--const', action = 'store_const', const = 10, default = 0, help = 'Generate 10 additional random numbers (in addition to Count)')\n",
    "\n",
    "parser.add_argument('-m', '--multiply', action = 'count', help = 'Multiply the number of random numbers by the number of times this flag appears')\n",
    "\n",
    "parser.add_argument('-v', '--verbose', action = 'store_true', help = 'Verbose mode')\n",
    "\n",
    "# Parse command-line arguments\n",
    "args = parser.parse_args()\n",
    "\n",
    "# Program\n",
    "\n",
    "# If args.const is used, add 10 to the count entered by the user\n",
    "num_of_rands = (args.count + args.const)\n",
    "\n",
    "# When args.multiply is not used, its value is None\n",
    "if (args.multiply != None):\n",
    "    num_of_rands = num_of_rands * args.multiply\n",
    "\n",
    "if args.verbose:\n",
    "    print(\"Generating {:d} random integer in the range [{:d}, {:d}]\".format(num_of_rands, args.range[0], args.range[1]))\n",
    "            \n",
    "for i in range(num_of_rands):\n",
    "    print(randint(args.range[0], args.range[1]))"
   ]
  },
  {
   "cell_type": "code",
   "execution_count": null,
   "metadata": {
    "collapsed": true
   },
   "outputs": [],
   "source": [
    "%%bash\n",
    "\n",
    "python3 rand.py 4 --range 500 1000 -v -c"
   ]
  },
  {
   "cell_type": "code",
   "execution_count": null,
   "metadata": {
    "collapsed": true
   },
   "outputs": [],
   "source": [
    "%%bash\n",
    "\n",
    "python3 rand.py 4 --range 500 1000 -v -mmm"
   ]
  },
  {
   "cell_type": "code",
   "execution_count": null,
   "metadata": {
    "collapsed": true
   },
   "outputs": [],
   "source": [
    "%%bash\n",
    "\n",
    "python3 rand.py -h"
   ]
  },
  {
   "cell_type": "markdown",
   "metadata": {},
   "source": [
    "NOTE: More information about the parameters and capabilities of the `add_argument` method is available on the Python Documentation site at https://docs.python.org/3/library/argparse.html."
   ]
  },
  {
   "cell_type": "markdown",
   "metadata": {},
   "source": [
    "---\n",
    "<font size=\"6\" color=\"#B24C00\"  face=\"verdana\"> <B>Task 2</B></font>\n",
    "\n",
    "## Parsing Command-Line Arguments\n"
   ]
  },
  {
   "cell_type": "markdown",
   "metadata": {},
   "source": [
    "### Finding the day of the week"
   ]
  },
  {
   "cell_type": "code",
   "execution_count": null,
   "metadata": {
    "collapsed": true
   },
   "outputs": [],
   "source": [
    "%%writefile day_finder.py\n",
    "\n",
    "# [ ] Write a program that reads a date (month, day, year) as command-line arguments in order\n",
    "# then prints the day of the week for that date.\n",
    "# If an optional flag (-c or --complete) is specified, the program should print the full date (not only the day of the week).\n",
    "\n",
    "# The help message should look like:\n",
    "'''\n",
    "usage: day_finder.py [-h] [-c] month day year\n",
    "\n",
    "positional arguments:\n",
    "  month           Month as a number (1, 12)\n",
    "  day             Day as a number (1, 31) depending on the month\n",
    "  year            Year as a 4 digits number (2018)\n",
    "\n",
    "optional arguments:\n",
    "  -h, --help      show this help message and exit\n",
    "  -c, --complete  Show complete formatted date\n",
    "'''\n",
    "\n",
    "# HINT: Use a date object with strftime\n",
    "\n",
    "\n"
   ]
  },
  {
   "cell_type": "code",
   "execution_count": null,
   "metadata": {
    "collapsed": true
   },
   "outputs": [],
   "source": [
    "%%bash\n",
    "\n",
    "python3 day_finder.py 12 31 2017 -c"
   ]
  },
  {
   "cell_type": "code",
   "execution_count": null,
   "metadata": {
    "collapsed": true
   },
   "outputs": [],
   "source": [
    "%%bash\n",
    "\n",
    "python3 day_finder.py 12 31 2017"
   ]
  },
  {
   "cell_type": "markdown",
   "metadata": {},
   "source": [
    "### Sorting numbers"
   ]
  },
  {
   "cell_type": "code",
   "execution_count": null,
   "metadata": {
    "collapsed": true
   },
   "outputs": [],
   "source": [
    "%%writefile sort_numbers.py\n",
    "\n",
    "# [ ] Write a program that reads an unspecified number of integers from the command line,\n",
    "# then prints out the numbers in an ascending order\n",
    "# The program should have an optional argument to save the sorted numbers as a file named `sorted_numbers.txt`\n",
    "\n",
    "# The help message should look like:\n",
    "'''\n",
    "usage: sort_numbers.py [-h] [-s] [numbers [numbers ...]]\n",
    "\n",
    "positional arguments:\n",
    "  numbers     int to be sorted\n",
    "\n",
    "optional arguments:\n",
    "  -h, --help  show this help message and exit\n",
    "  -s, --save  save the sorted numbers on a file (sorted_numbers.txt)\n",
    "'''\n",
    "\n",
    "#HINT: use nargs = '*' in an add_argument method\n",
    "\n"
   ]
  },
  {
   "cell_type": "code",
   "execution_count": null,
   "metadata": {
    "collapsed": true
   },
   "outputs": [],
   "source": [
    "%%bash\n",
    "\n",
    "python3 sort_numbers.py 23 49 5 300 43 582 58 29 62 69 320 60"
   ]
  }
 ],
 "metadata": {
  "kernelspec": {
   "display_name": "Python 3",
   "language": "python",
   "name": "python3"
  },
  "language_info": {
   "codemirror_mode": {
    "name": "ipython",
    "version": 3
   },
   "file_extension": ".py",
   "mimetype": "text/x-python",
   "name": "python",
   "nbconvert_exporter": "python",
   "pygments_lexer": "ipython3",
   "version": "3.6.3"
  }
 },
 "nbformat": 4,
 "nbformat_minor": 2
}
