{
 "cells": [
  {
   "cell_type": "markdown",
   "metadata": {},
   "source": [
    "# Section 3.4: Dictionaries\n",
    "* {}, .pop(), .clear\n",
    "* .keys(), .values() .items(), sorted()\n",
    "* in, not in, is, ==, len()\n",
    "\n",
    "### Students will be able to:\n",
    "* Create dictionaries\n",
    "* Access dictionary values\n",
    "* Add, change, and delete dictionary items\n",
    "* Delete a whole dictionary variable\n",
    "* Iterate over the keys, values, and items of a dictionary \n",
    "* Use dictionary operations and functions (i.e. containment and sorting)"
   ]
  },
  {
   "cell_type": "markdown",
   "metadata": {},
   "source": [
    "---\n",
    "<font size=\"6\" color=\"#00A0B2\"  face=\"verdana\"> <B>Concepts</B></font>  \n",
    "\n",
    "## Dictionary Basics\n",
    "\n",
    "[![view video](https://iajupyterprodblobs.blob.core.windows.net/imagecontainer/common/play_video.png)](https://www.youtube.com/watch?v=jZZeX0qJl4Y)\n",
    "\n",
    "A Python dictionary is yet another data structure to store a collection of data. However, unlike lists and tuples, a dictionary does not store a sequence of data but rather an association of (_key, value_) pairs. All keys in a dictionary are unique, while a value can be associated with multiple keys. Dictionaries provide a very useful utility to represent real-world data, such as that stored in contact lists and birthday lists. \n",
    "\n",
    "The power of Python's dictionary is in the way it can be searched. If you are searching for a specific element in an unordered list (or tuple) you will have to traverse the whole list until you find the element; on the other hand, when you search a Python dictionary, there is no need to traverse all of its elements. A Python dictionary uses a mathematical process called _hashing_ that optimizes the search capability by using the keys of a dictionary. This is more obvious when you are storing thousands of items in a dictionary.\n",
    "\n",
    "#### Creating a dictionary\n",
    "A dictionary can be created by using the braces operator `{key:value}`. You have to specify the keys and their associated values.\n",
    "\n",
    "##### `int` keys\n",
    "Keys can be integer values starting from 0, much like lists and tuples.\n",
    "```python\n",
    ">>> D = {0:5.5, 1:10.3, 2:43.2, 3:85.3}\n",
    ">>> type(D)\n",
    "<class 'dict'>\n",
    "```\n",
    "\n",
    "Keys do not have to start from 0, neither do they have to be in order.\n",
    "```python\n",
    ">>> D = {1343:5.5, 2:10.3, 3234235234:43.2, -324:85.3}\n",
    ">>> type(D)\n",
    "<class 'dict'>\n",
    "```\n",
    "##### `float` keys\n",
    "Keys can be float.\n",
    "```python\n",
    ">>> D = {1.5:5.5, 2.9:10.3, -3.8:43.2, 5:85.3}\n",
    ">>> type(D)\n",
    "<class 'dict'>\n",
    "```\n",
    "\n",
    "##### `str` keys\n",
    "As you might have noticed by now, keys can be of different types, and keys within the same dictionary can be of different types. Generally speaking, a key should be of a hashable type; therefore, you cannot use mutable objects such as lists or other dictionaries.\n",
    "\n",
    "```python\n",
    ">>> D = {'Name':'Skye', 'Age':35, 'Temperature':98.7}\n",
    "```\n",
    "\n",
    "NOTE: An empty dictionary can be created as `D = {}`.\n",
    "\n",
    "#### Accessing dictionary items\n",
    "You can access the value associated with a key of a dictionary by using the subscript `[]` operator, in much the same way you did with lists and tuples.\n",
    "\n",
    "```python\n",
    ">>> D = {'Name':'Skye', 'Age':35, 'Temperature':98.7}\n",
    ">>> print(\"The name is: {}\".format(D['Name']))\n",
    "The name is: Skye\n",
    ">>> print(\"Age is:\", D['Age'])\n",
    "Age is: 35\n",
    "```\n",
    "\n",
    "#### Modifying dictionary items\n",
    "Dictionaries are mutable objects and can be modified. For example, you can change the value associated with a key by accessing it using the `[]` operator amd then assigning it a new value.\n",
    "\n",
    "```python\n",
    ">>> D = {'Name':'Skye', 'Age':35, 'Temperature':98.7}\n",
    ">>> D['Name'] = 'Tamara'\n",
    ">>> D\n",
    "{'Name': 'Tamara', 'Age': 35, 'Temperature': 98.7}\n",
    "```\n",
    "\n",
    "#### Adding dictionary items\n",
    "You can add a new _key:value_ pair to a dictionary by using the operator `[]`. Just make sure the key doesn't already exist in the dictionary. (You will see later that you can use the containment operator `in` to test a key's existence.)\n",
    "\n",
    "```python\n",
    ">>> D = {'Name':'Skye', 'Age':35, 'Temperature':98.7}\n",
    ">>> D['Last Name'] = 'Babic'\n",
    ">>> D\n",
    "{'Name': 'Skye', 'Age': 35, 'Temperature': 98.7, 'Last Name': 'Babic'}\n",
    "```\n",
    "\n",
    "#### Deleting dictionary items\n",
    "You can delete a dictionary _key:value_ pair using the `pop(key)` method, the _key:value_ pair will be deleted and the method will return the value associated with the key.\n",
    "\n",
    "```python\n",
    ">>> D = {'Name':'Skye', 'Age':35, 'Temperature':98.7, 'Last Name': 'Babic'}\n",
    ">>> a = D.pop('Age') # remove the key:value ('Age':35) pair\n",
    ">>> a # D['Age']\n",
    "35\n",
    ">>> D\n",
    "{'Name': 'Skye', 'Temperature': 98.7, 'Last Name': 'Babic'}\n",
    "```\n",
    "\n",
    "If you try to delete a key:value pair not in the dictionary, a `KeyError` exception will be raised. \n",
    "```python\n",
    ">>> D = {'Name':'Skye', 'Age':35, 'Temperature':98.7, 'Last Name': 'Babic'}\n",
    ">>> D.pop('Middle Name') # There is no middle name in D\n",
    "Traceback (most recent call last):\n",
    "  File \"<stdin>\", line 1, in <module>\n",
    "KeyError: 'Middle Name'\n",
    "```\n",
    "#### Clearing and deleting a dictionary\n",
    "You can delete all the elements in a dictionary by using the `.clear()` method.\n",
    "\n",
    "```python\n",
    ">>> D = {'Name':'Skye', 'Age':35, 'Temperature':98.7, 'Last Name': 'Babic'}\n",
    ">>> D.clear()\n",
    ">>> D\n",
    "{}\n",
    "```\n",
    "\n",
    "You can delete the whole dictionary by using `del` like you would delete any other variable.\n",
    "```python\n",
    ">>> D = {'Name':'Skye', 'Age':35, 'Temperature':98.7, 'Last Name': 'Babic'}\n",
    ">>> del(D)\n",
    ">>> D\n",
    "Traceback (most recent call last):\n",
    "  File \"<stdin>\", line 1, in <module>\n",
    "NameError: name 'D' is not defined\n",
    "```"
   ]
  },
  {
   "cell_type": "markdown",
   "metadata": {},
   "source": [
    "---\n",
    "<font size=\"6\" color=\"#00A0B2\"  face=\"verdana\"> <B>Examples</B></font>\n",
    "\n"
   ]
  },
  {
   "cell_type": "markdown",
   "metadata": {},
   "source": [
    "## Creating a Contact List\n",
    "\n",
    "In the following examples, you will see how to create, search, modify, add, and delete names and phone numbers from a contacts dictionary."
   ]
  },
  {
   "cell_type": "markdown",
   "metadata": {},
   "source": [
    "### Querying contacts"
   ]
  },
  {
   "cell_type": "code",
   "execution_count": null,
   "metadata": {
    "collapsed": true
   },
   "outputs": [],
   "source": [
    "# Create a dictionary of contacts; names as keys, phone numbers as values\n",
    "contacts = {\"Suresh Datta\": \"345-555-0101\", \"Colette Browning\": \"483-555-0119\", \"Skey Homsi\": \"485-555-0195\"}\n",
    "\n",
    "# Ask user for a name, then display the number\n",
    "name = input(\"Enter a name: \")\n",
    "\n",
    "# If name is not in the contacts dictionary, a KeyError exception will be raised\n",
    "number = contacts[name]\n",
    "\n",
    "print(\"Number is: {:s}\".format(number))"
   ]
  },
  {
   "cell_type": "markdown",
   "metadata": {},
   "source": [
    "### Querying contacts with exception handling"
   ]
  },
  {
   "cell_type": "code",
   "execution_count": null,
   "metadata": {
    "collapsed": true
   },
   "outputs": [],
   "source": [
    "# Create a dictionary of contacts; names as keys, phone numbers as values\n",
    "contacts = {\"Suresh Datta\": \"345-555-0101\", \"Colette Browning\": \"483-555-0119\", \"Skey Homsi\": \"485-555-0195\"}\n",
    "\n",
    "# Ask user for a name, then display the number\n",
    "name = input(\"Enter a name: \")\n",
    "\n",
    "# If name is not in the contacts dictionary, the exception message will be displayed\n",
    "try:\n",
    "    number = contacts[name]\n",
    "    print(\"Number is: {:s}\".format(number))\n",
    "except KeyError as exception_object:\n",
    "    print(\"{:s} was not found in contacts\".format(name))"
   ]
  },
  {
   "cell_type": "markdown",
   "metadata": {},
   "source": [
    "### Adding or changing a contact"
   ]
  },
  {
   "cell_type": "code",
   "execution_count": null,
   "metadata": {
    "collapsed": true
   },
   "outputs": [],
   "source": [
    "# Create a dictionary of contacts; names as keys, phone numbers as values\n",
    "contacts = {\"Suresh Datta\": \"345-555-0101\", \"Colette Browning\": \"483-555-0119\", \"Skey Homsi\": \"485-555-0195\"}\n",
    "\n",
    "# Ask user for a name and number\n",
    "name = input(\"Enter a name: \")\n",
    "number = input(\"Enter a number: \")\n",
    "\n",
    "# If the name exists in the dictionary, the number will be updated\n",
    "# If the name does NOT exist in the dictionary, a new name:number pair will be added\n",
    "contacts[name] = number\n",
    "\n",
    "print(\"Updated contact:\", contacts)"
   ]
  },
  {
   "cell_type": "markdown",
   "metadata": {},
   "source": [
    "### Deleting a contact"
   ]
  },
  {
   "cell_type": "code",
   "execution_count": null,
   "metadata": {
    "collapsed": true
   },
   "outputs": [],
   "source": [
    "# Create a dictionary of contacts; names as keys, phone numbers as values\n",
    "contacts = {\"Suresh Datta\": \"345-555-0101\", \"Colette Browning\": \"483-555-0119\", \"Skey Homsi\": \"485-555-0195\"}\n",
    "\n",
    "# Ask user for a name and number\n",
    "name = input(\"Enter a name: \")\n",
    "\n",
    "# If the name is not in the contacts dictionary, display the exception message\n",
    "try:\n",
    "    number = contacts.pop(name)\n",
    "    print(\"{:s}: {:s} was deleted from contacts\".format(name, number))\n",
    "except KeyError as exception_object:\n",
    "    print(\"{:s} was not found in contacts\".format(name))\n",
    "    \n",
    "print(\"Updated contact:\", contacts)"
   ]
  },
  {
   "cell_type": "markdown",
   "metadata": {},
   "source": [
    "## Tracking Grocery Prices\n",
    "In the following example, you will use a dictionary to store and manipulate groceries and their associated prices. Each grocery is represented by a unique item name that is used as the unique dictionary key. The average daily price of a grocery will be used as the associated value."
   ]
  },
  {
   "cell_type": "code",
   "execution_count": null,
   "metadata": {
    "collapsed": true
   },
   "outputs": [],
   "source": [
    "# Create a dictionary of grocery items and associated prices\n",
    "groceries = {'Bread':2.26, 'Milk':3.62, 'Chocolate':1.59}\n",
    "\n",
    "# Display the price for the item name\n",
    "item = 'Bread'\n",
    "print(\"{} price = {:.2f}\".format(item, groceries[item]))\n",
    "\n",
    "# Add a new key:value pair to the dictionary\n",
    "groceries['Banana']= 1.00\n",
    "print('Adding Banana:')\n",
    "print(groceries)\n",
    "\n",
    "# Modify a dictionary element\n",
    "groceries['Banana'] = 1.10\n",
    "print('Modifying Banana:')\n",
    "print(groceries)\n",
    "\n",
    "# Remove a dictionary element\n",
    "print(\"Removing: '{}':{:.2f}\".format('Banana', groceries.pop('Banana')))\n",
    "print(groceries)"
   ]
  },
  {
   "cell_type": "markdown",
   "metadata": {},
   "source": [
    "---\n",
    "<font size=\"6\" color=\"#B24C00\"  face=\"verdana\"> <B>Task 1</B></font>\n",
    "\n",
    "## Dictionary Basics"
   ]
  },
  {
   "cell_type": "code",
   "execution_count": null,
   "metadata": {
    "collapsed": true
   },
   "outputs": [],
   "source": [
    "# [ ] The `data` list contains information about a company's employees.\n",
    "# Use the `data` list and an appropriate loop to create a dictionary of employees.\n",
    "# Use IDs (as keys) and names (as values).\n",
    "# Ignore the email addresses for now.\n",
    "\n",
    "# The created dictionary should look like:\n",
    "# {57394: 'Suresh Datta', 48539: 'Colette Browning', 58302: 'Skye Homsi', 48502: 'Hiroto Yamaguchi', 48291: 'Tobias Ledford', 48293: 'Jin Xu', 23945: 'Joana Dias', 85823: 'Alton Derosa'}\n",
    "\n",
    "data = [[\"Suresh Datta\", 57394, \"suresh@example.com\"], [\"Colette Browning\", 48539, \"colette@example.com\"], [\"Skye Homsi\", 58302, \"skye@example.com\"], [\"Hiroto Yamaguchi\", 48502, \"hiroto@example.com\"], [\"Tobias Ledford\", 48291, \"tobias@example.com\", \"Tamara Babic\", 58201, \"tamara@example.com\"], [\"Jin Xu\", 48293, \"jin@example.com\"], [\"Joana Dias\", 23945, \"joana@example.com\"], [\"Alton Derosa\", 85823, \"alton@example.com\"]]\n",
    "\n"
   ]
  },
  {
   "cell_type": "code",
   "execution_count": null,
   "metadata": {
    "collapsed": true
   },
   "outputs": [],
   "source": [
    "# [ ] Use the `records` dictionary in a program that asks the user for an ID and prints the name of the associated employee.\n",
    "# Display an appropriate message if the ID is not found in the dictionary.\n",
    "\n",
    "records = {57394: 'Suresh Datta', 48539: 'Colette Browning', 58302: 'Skye Homsi', 48502: 'Hiroto Yamaguchi', 48291: 'Tobias Ledford', 48293: 'Jin Xu', 23945: 'Joana Dias', 85823: 'Alton Derosa'}\n",
    "\n"
   ]
  },
  {
   "cell_type": "code",
   "execution_count": null,
   "metadata": {
    "collapsed": true
   },
   "outputs": [],
   "source": [
    "# [ ] Use the `records` dictionary in a program to ask the user for an ID then delete the employee record associated with the ID\n",
    "# The program should display an appropriate message if the ID is not found in the dictionary.\n",
    "\n",
    "records = {57394: 'Suresh Datta', 48539: 'Colette Browning', 58302: 'Skye Homsi', 48502: 'Hiroto Yamaguchi', 48291: 'Tobias Ledford', 48293: 'Jin Xu', 23945: 'Joana Dias', 85823: 'Alton Derosa'}\n",
    "\n"
   ]
  },
  {
   "cell_type": "markdown",
   "metadata": {},
   "source": [
    "---\n",
    "<font size=\"6\" color=\"#00A0B2\"  face=\"verdana\"> <B>Concepts</B></font>  \n",
    "\n",
    "\n",
    "## Looping Over Dictionary Items\n",
    "\n",
    "\n",
    "[![view video](https://iajupyterprodblobs.blob.core.windows.net/imagecontainer/common/play_video.png)](https://www.youtube.com/watch?v=sRmMADRVbNo)\n",
    "\n",
    "You can traverse the elements of a dictionary in much the same way you loop over the elements of a list or a tuple; however, with dictionaries you can use the keys, the values, or both keys and values when iterating over the dictionary elements."
   ]
  },
  {
   "cell_type": "markdown",
   "metadata": {},
   "source": [
    "---\n",
    "<font size=\"6\" color=\"#00A0B2\"  face=\"verdana\"> <B>Examples</B></font>\n",
    "## Dictionary Iterations"
   ]
  },
  {
   "cell_type": "markdown",
   "metadata": {},
   "source": [
    "### Iterating over the keys\n",
    "\n",
    "You can iterate over all the keys of a dictionary using the `.keys()` method in a for loop. \n"
   ]
  },
  {
   "cell_type": "code",
   "execution_count": null,
   "metadata": {
    "collapsed": true
   },
   "outputs": [],
   "source": [
    "D = {'Name':'Skye', 'Age':35, 'Temperature':98.7, 'Last Name': 'Babic'}\n",
    "\n",
    "# Iterate over the keys of D\n",
    "for key in D.keys():\n",
    "    print(\"D[{}] = '{}'\".format(key, D[key]))"
   ]
  },
  {
   "cell_type": "markdown",
   "metadata": {},
   "source": [
    "### Iterating over the sorted keys\n",
    "Python stores the _key:value_ pairs of a dictionary in an order based on its optimization algorithm. You can use the `sorted` method to traverse the keys of a dictionary in a sorted order.\n",
    "\n",
    "In the previous example, the keys were not printed alphabetically. In the following code snippet, we change the order by using the `sorted` method."
   ]
  },
  {
   "cell_type": "code",
   "execution_count": null,
   "metadata": {
    "collapsed": true
   },
   "outputs": [],
   "source": [
    "D = {'Name':'Skye', 'Age':35, 'Temperature':98.7, 'Last Name': 'Babic'}\n",
    "\n",
    "# Iterate over the sorted keys of D \n",
    "# Keys sorted alphabetically because they are all strings\n",
    "for key in sorted(D.keys()):\n",
    "    print(\"D[{}] = '{}'\".format(key, D[key]))"
   ]
  },
  {
   "cell_type": "markdown",
   "metadata": {},
   "source": [
    "### Iterating over the values\n",
    "You can iterate over the elements of a dictionary using the values in the same way you did when iterating using the keys. This can be achieved using the `.values()` method.\n",
    "\n",
    "NOTE: Because the values in this example are of different types, you cannot sort them. If they were all of the same type, you could use the `sorted()` method to iterate over them in an ordered way."
   ]
  },
  {
   "cell_type": "code",
   "execution_count": null,
   "metadata": {
    "collapsed": true
   },
   "outputs": [],
   "source": [
    "D = {'Name':'Skye', 'Age':35, 'Temperature':98.7, 'Last Name': 'Babic'}\n",
    "for value in D.values():\n",
    "    print(value)"
   ]
  },
  {
   "cell_type": "markdown",
   "metadata": {},
   "source": [
    "### Iterating over the keys and values\n",
    "You can iterate over the _key:value_ pairs of a dictionary using the `.items()` method. The method returns a tuple as `(key, value)` for each pair in the dictionary."
   ]
  },
  {
   "cell_type": "code",
   "execution_count": null,
   "metadata": {
    "collapsed": true
   },
   "outputs": [],
   "source": [
    "D = {'Name':'Skye', 'Age':35, 'Temperature':98.7, 'Last Name': 'Babic'}\n",
    "for (key, value) in D.items():\n",
    "    print(key,':', value)"
   ]
  },
  {
   "cell_type": "markdown",
   "metadata": {},
   "source": [
    "Of course, because the (key, value) tuple in the `for` loop is just unpacking the returned tuple of `D.items`, you can drop the parentheses."
   ]
  },
  {
   "cell_type": "code",
   "execution_count": null,
   "metadata": {
    "collapsed": true
   },
   "outputs": [],
   "source": [
    "D = {'Name':'Skye', 'Age':35, 'Temperature':98.7, 'Last Name': 'Babic'}\n",
    "for key, value in D.items():\n",
    "    print(key,':', value)"
   ]
  },
  {
   "cell_type": "markdown",
   "metadata": {},
   "source": [
    "## Tracking Grocery Prices\n",
    "\n",
    "In this example, you will create a groceries dictionary, traverse it based on the keys (in a sorted way) and display the price for each of the items."
   ]
  },
  {
   "cell_type": "code",
   "execution_count": null,
   "metadata": {
    "collapsed": true
   },
   "outputs": [],
   "source": [
    "# Create a dictionary of grocery items and associated prices\n",
    "groceries = {'Bread':2.26, 'Milk':3.62, 'Chocolate':1.59}\n",
    "\n",
    "# Display the price for the items in a sorted order\n",
    "for item in sorted(groceries.keys()):\n",
    "    print(\"{} = {:.2f}\".format(item, groceries[item]))"
   ]
  },
  {
   "cell_type": "markdown",
   "metadata": {},
   "source": [
    "---\n",
    "<font size=\"6\" color=\"#B24C00\"  face=\"verdana\"> <B>Task 2</B></font>\n",
    "\n",
    "## Looping Over Dictionary Items"
   ]
  },
  {
   "cell_type": "code",
   "execution_count": null,
   "metadata": {
    "collapsed": true
   },
   "outputs": [],
   "source": [
    "# [ ] The `data` list contains information about a company's employees\n",
    "# Use the `data` list and an appropriate loop to create a dictionary of\n",
    "# IDs (as keys): [name, email] (as values)\n",
    "\n",
    "# The resulting dictionary should look like: \n",
    "# {57394: ['Suresh Datta', 'suresh@example.com'], 48539: ['Colette Browning', 'colette@example.com'], 58302: ['Skye Homsi', 'skye@example.com'], 48502: ['Hiroto Yamaguchi', 'hiroto@example.com'], 48291: ['Tobias Ledford', 'tobias@example.com'], 48293: ['Jin Xu', 'jin@example.com'], 23945: ['Joana Dias', 'joana@example.com'], 85823: ['Alton Derosa', 'alton@example.com']}\n",
    "\n",
    "data = [[\"Suresh Datta\", 57394, \"suresh@example.com\"], [\"Colette Browning\", 48539, \"colette@example.com\"], [\"Skye Homsi\", 58302, \"skye@example.com\"], [\"Hiroto Yamaguchi\", 48502, \"hiroto@example.com\"], [\"Tobias Ledford\", 48291, \"tobias@example.com\", \"Tamara Babic\", 58201, \"tamara@example.com\"], [\"Jin Xu\", 48293, \"jin@example.com\"], [\"Joana Dias\", 23945, \"joana@example.com\"], [\"Alton Derosa\", 85823, \"alton@example.com\"]]\n",
    "\n"
   ]
  },
  {
   "cell_type": "code",
   "execution_count": null,
   "metadata": {
    "collapsed": true
   },
   "outputs": [],
   "source": [
    "# [ ] Write a program to display the content of the `records` dictionary as shown here\n",
    "# Note the IDs are sorted in an ascending order\n",
    "\n",
    "'''\n",
    "        Name         |     ID     |        Email        \n",
    "________________________________________________________\n",
    "     Joana Dias      |   23945    |    joana@example.com\n",
    "   Tobias Ledford    |   48291    |   tobias@example.com\n",
    "       Jin Xu        |   48293    |      jin@example.com\n",
    "  Hiroto Yamaguchi   |   48502    |   hiroto@example.com\n",
    "  Colette Browning   |   48539    |  colette@example.com\n",
    "    Suresh Datta     |   57394    |   suresh@example.com\n",
    "     Skye Homsi      |   58302    |     skye@example.com\n",
    "    Alton Derosa     |   85823    |    alton@example.com\n",
    "'''\n",
    "records = {57394: ['Suresh Datta', 'suresh@example.com'], 48539: ['Colette Browning', 'colette@example.com'], 58302: ['Skye Homsi', 'skye@example.com'], 48502: ['Hiroto Yamaguchi', 'hiroto@example.com'], 48291: ['Tobias Ledford', 'tobias@example.com'], 48293: ['Jin Xu', 'jin@example.com'], 23945: ['Joana Dias', 'joana@example.com'], 85823: ['Alton Derosa', 'alton@example.com']}\n",
    "\n"
   ]
  },
  {
   "cell_type": "code",
   "execution_count": null,
   "metadata": {
    "collapsed": true
   },
   "outputs": [],
   "source": [
    "# [ ] The company's domain has changed from (example.com) to (example.org)\n",
    "# Write a program to modify the email addresses in the `records` dictionary to reflect this change\n",
    "\n",
    "records = {57394: ['Suresh Datta', 'suresh@example.com'], 48539: ['Colette Browning', 'colette@example.com'], 58302: ['Skye Homsi', 'skye@example.com'], 48502: ['Hiroto Yamaguchi', 'hiroto@example.com'], 48291: ['Tobias Ledford', 'tobias@example.com'], 48293: ['Jin Xu', 'jin@example.com'], 23945: ['Joana Dias', 'joana@example.com'], 85823: ['Alton Derosa', 'alton@example.com']}\n",
    "\n"
   ]
  },
  {
   "cell_type": "code",
   "execution_count": null,
   "metadata": {
    "collapsed": true
   },
   "outputs": [],
   "source": [
    "# [ ] You want to send a mass email to all company employees, so you need a list of all the email addresses in `records`\n",
    "# Write a program to extract the email addresses from the `records` dictionary and store them in a list\n",
    "\n",
    "# The output list should look like:\n",
    "# ['suresh@example.com', 'colette@example.com', 'skye@example.com', 'hiroto@example.com', 'tobias@example.com', 'jin@example.com', 'joana@example.com', 'alton@example.com']\n",
    "\n",
    "# Hint: use the `.values()` method\n",
    "\n",
    "records = {57394: ['Suresh Datta', 'suresh@example.com'], 48539: ['Colette Browning', 'colette@example.com'], 58302: ['Skye Homsi', 'skye@example.com'], 48502: ['Hiroto Yamaguchi', 'hiroto@example.com'], 48291: ['Tobias Ledford', 'tobias@example.com'], 48293: ['Jin Xu', 'jin@example.com'], 23945: ['Joana Dias', 'joana@example.com'], 85823: ['Alton Derosa', 'alton@example.com']}\n",
    "\n"
   ]
  },
  {
   "cell_type": "markdown",
   "metadata": {},
   "source": [
    "---\n",
    "<font size=\"6\" color=\"#00A0B2\"  face=\"verdana\"> <B>Concepts</B></font>  \n",
    "\n",
    "\n",
    "## Dictionary Operations and Functions\n",
    "\n",
    "\n",
    "[![view video](https://iajupyterprodblobs.blob.core.windows.net/imagecontainer/common/play_video.png)](https://www.youtube.com/watch?v=SG0KQXGMXRM)\n",
    "\n",
    "Python supports several functions and dictionary operations such as containment, identity, and dictionary length. You will explore some of them in the following examples."
   ]
  },
  {
   "cell_type": "markdown",
   "metadata": {},
   "source": [
    "---\n",
    "<font size=\"6\" color=\"#00A0B2\"  face=\"verdana\"> <B>Examples</B></font>\n"
   ]
  },
  {
   "cell_type": "markdown",
   "metadata": {},
   "source": [
    "### Containment (`in`, `not in`)\n",
    "\n"
   ]
  },
  {
   "cell_type": "markdown",
   "metadata": {},
   "source": [
    "#### _key_ containment\n",
    "You can test if a value is one of the dictionary keys by using the (`in`) and (`not in`) containment operators. \n",
    "\n",
    "When testing the containment, you can use the `.keys()` method or just the name of the dictionary, Python will generate the same results. "
   ]
  },
  {
   "cell_type": "code",
   "execution_count": null,
   "metadata": {
    "collapsed": true
   },
   "outputs": [],
   "source": [
    "# Create a dictionary of grocery items and associated prices\n",
    "groceries = {'Bread':2.26, 'Milk':3.62, 'Chocolate':1.59}\n",
    "\n",
    "item = input(\"Please enter an item name: \")\n",
    "\n",
    "# Using .keys()\n",
    "if (item in groceries.keys()):\n",
    "    print(\"Price of {} is: ${:4.2f}\".format(item, groceries[item]))\n",
    "elif (item not in groceries):\n",
    "    print(\"Price not in the dictionary\")"
   ]
  },
  {
   "cell_type": "code",
   "execution_count": null,
   "metadata": {
    "collapsed": true
   },
   "outputs": [],
   "source": [
    "# Create a dictionary of grocery items and associated prices\n",
    "groceries = {'Bread':2.26, 'Milk':3.62, 'Chocolate':1.59}\n",
    "\n",
    "item = input(\"Please enter a item: \")\n",
    "\n",
    "# Without using .keys()\n",
    "if (item in groceries):\n",
    "    print(\"Price of {} is: ${:4.2f}\".format(item, groceries[item]))\n",
    "elif (item not in groceries):\n",
    "    print(\"Price not in the dictionary\")"
   ]
  },
  {
   "cell_type": "markdown",
   "metadata": {},
   "source": [
    "#### _value_ containment\n",
    "You can test if a value is one of the dictionary values by using the (`in`) and (`not in`) containment operators and the `.values()` method. Unlike _key_ containment, you cannot use only the dictionary name."
   ]
  },
  {
   "cell_type": "code",
   "execution_count": null,
   "metadata": {
    "collapsed": true
   },
   "outputs": [],
   "source": [
    "# Create a dictionary of grocery items and associated prices\n",
    "groceries = {'Bread':2.26, 'Milk':3.62, 'Chocolate':1.59}\n",
    "\n",
    "price = float(input(\"Please enter an exact price: \"))\n",
    "\n",
    "if (price in groceries.values()):\n",
    "    print(\"There is a matching grocery\")\n",
    "else:\n",
    "    print(\"There are no groceries matching this price\")"
   ]
  },
  {
   "cell_type": "markdown",
   "metadata": {},
   "source": [
    "### Identity (`is`) and equality (`==`)\n",
    "\n",
    "When comparing two tuples or lists using the equality operator `==`, the result would be `True` if and only if both sequences had the same exact elements and in the same order. Of course, being equal does not indicate that the sequences are identical as you saw earlier.\n",
    "\n",
    "For dictionaries, the order of the items is not important. Thus, two dictionaries can be equal despite the fact that they store the elements in a different order. Identity of dictionaries is the same as identities of tuples and lists; changing one of two identical dictionaries will also change the other."
   ]
  },
  {
   "cell_type": "code",
   "execution_count": null,
   "metadata": {
    "collapsed": true
   },
   "outputs": [],
   "source": [
    "# Create 2 equal but not identical dictionaries\n",
    "D1 = {0:'number 0', 1:'number 1', 2:'number 2'}\n",
    "D2 = {1:'number 1', 0:'number 0', 2:'number 2'}\n",
    "\n",
    "print(\"Equality: D1 == D2 ?\", D1 == D2)\n",
    "print(\"Identity: D1 is D2 ?\", D1 is D2)"
   ]
  },
  {
   "cell_type": "code",
   "execution_count": null,
   "metadata": {
    "collapsed": true
   },
   "outputs": [],
   "source": [
    "# Create 2 equal and identical dictionaries\n",
    "D1 = {0:'number 0', 1:'number 1', 2:'number 2'}\n",
    "D2 = D1\n",
    "D1[0] = 'changed number'\n",
    "\n",
    "print(\"Equality: D1 == D2 ?\", D1 == D2)\n",
    "print(\"Identity: D1 is D2 ?\", D1 is D2)\n",
    "\n",
    "print(\"D2 after changing D1:\", D2)"
   ]
  },
  {
   "cell_type": "markdown",
   "metadata": {},
   "source": [
    "### Length of a dictionary\n",
    "The length of a dictionary is the number of key:value pairs it contains. You can find out this number by using the `len()` function."
   ]
  },
  {
   "cell_type": "code",
   "execution_count": null,
   "metadata": {
    "collapsed": true
   },
   "outputs": [],
   "source": [
    "# Create a dictionary of grocery items and associated prices\n",
    "groceries = {'Bread':2.26, 'Milk':3.62, 'Chocolate':1.59}\n",
    "\n",
    "# The length of a dictionary = how many key:value pairs it has\n",
    "print(\"{} groceries total\".format(len(groceries)))"
   ]
  },
  {
   "cell_type": "markdown",
   "metadata": {},
   "source": [
    "---\n",
    "<font size=\"6\" color=\"#B24C00\"  face=\"verdana\"> <B>Task 3</B></font>\n",
    "\n",
    "## Dictionary Operations and Functions"
   ]
  },
  {
   "cell_type": "code",
   "execution_count": null,
   "metadata": {
    "collapsed": true
   },
   "outputs": [],
   "source": [
    "# Write a program that can ONLY update the price of an existing grocery \n",
    "# in the `groceries` dictionary.\n",
    "# The item and updated price should be entered by the user.\n",
    "# If the user enters a new item, the program should not create \n",
    "# a new dictionary item. It should instead display an error message.\n",
    "\n",
    "groceries = {'Bread':2.26, 'Milk':3.62, 'Chocolate':1.59}\n",
    "\n"
   ]
  },
  {
   "cell_type": "code",
   "execution_count": null,
   "metadata": {
    "collapsed": true
   },
   "outputs": [],
   "source": [
    "# [ ] Write a program to find out the number of employees stored in `records`.\n",
    "\n",
    "records = {57394: ['Suresh Datta', 'suresh@example.com'], 48539: ['Colette Browning', 'colette@example.com'], 58302: ['Skye Homsi', 'skye@example.com'], 48502: ['Hiroto Yamaguchi', 'hiroto@example.com'], 48291: ['Tobias Ledford', 'tobias@example.com'], 48293: ['Jin Xu', 'jin@example.com'], 23945: ['Joana Dias', 'joana@example.com'], 85823: ['Alton Derosa', 'alton@example.com']}\n",
    "\n"
   ]
  }
 ],
 "metadata": {
  "kernelspec": {
   "display_name": "Python 3",
   "language": "python",
   "name": "python3"
  },
  "language_info": {
   "codemirror_mode": {
    "name": "ipython",
    "version": 3
   },
   "file_extension": ".py",
   "mimetype": "text/x-python",
   "name": "python",
   "nbconvert_exporter": "python",
   "pygments_lexer": "ipython3",
   "version": "3.6.3"
  }
 },
 "nbformat": 4,
 "nbformat_minor": 2
}
